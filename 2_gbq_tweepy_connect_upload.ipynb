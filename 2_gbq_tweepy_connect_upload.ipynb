{
 "cells": [
  {
   "cell_type": "code",
   "execution_count": 1,
   "id": "d33b20ff",
   "metadata": {},
   "outputs": [],
   "source": [
    "import os\n",
    "import io\n",
    "import tweepy\n",
    "from google.cloud import bigquery\n",
    "from google.oauth2 import service_account"
   ]
  },
  {
   "cell_type": "markdown",
   "id": "180f65c9",
   "metadata": {},
   "source": [
    "### Connect to GBQ"
   ]
  },
  {
   "cell_type": "code",
   "execution_count": 2,
   "id": "ecf0844d",
   "metadata": {},
   "outputs": [],
   "source": [
    "# Do our imports for the code\n",
    "from google.cloud import bigquery\n",
    "from google.oauth2 import service_account\n",
    "\n",
    "# Set authentication info\n",
    "service_path = \"/Users/natebender/Desktop/repo/footprints/footprints_audience/\"\n",
    "service_file = 'footprintsrunning-d15e651db9a6.json' # change this to your authentication information  \n",
    "gbq_proj_id = 'footprintsrunning' # change this to your poroject. \n",
    "\n",
    "# And this should stay the same. \n",
    "private_key = service_path + service_file\n",
    "\n",
    "# Now we pass in our credentials so that Python has permission to access our project.\n",
    "credentials = service_account.Credentials.from_service_account_file(service_path + service_file)\n",
    "\n",
    "# And finally we establish our connection\n",
    "gbqclient = bigquery.Client(credentials = credentials, project=gbq_proj_id)"
   ]
  },
  {
   "cell_type": "code",
   "execution_count": 3,
   "id": "f4e37415",
   "metadata": {},
   "outputs": [
    {
     "data": {
      "text/plain": [
       "['20220906_000000_trailrunningtweets.csv',\n",
       " '20220216_000000_trailrunningtweets.csv',\n",
       " '20220105_0112_000000_trailrunningtweets.csv',\n",
       " '20220104_000000_trailrunningtweets.csv',\n",
       " '1228-1231_000000_trailrunningtweets.csv',\n",
       " '20220131_000000_trailrunningtweets.csv',\n",
       " '20220116_0123_000000_trailrunningtweets.csv']"
      ]
     },
     "execution_count": 3,
     "metadata": {},
     "output_type": "execute_result"
    }
   ],
   "source": [
    "# Test connection\n",
    "clean_files = \"/Users/natebender/Desktop/repo/footprints/footprints_audience/data\"\n",
    "os.listdir(clean_files)"
   ]
  },
  {
   "cell_type": "markdown",
   "id": "4a2b66ff",
   "metadata": {},
   "source": [
    "### Connect to Tweepy"
   ]
  },
  {
   "cell_type": "code",
   "execution_count": 4,
   "id": "15db66ab",
   "metadata": {},
   "outputs": [],
   "source": [
    "# Set connection to Tweepy\n",
    "\n",
    "# From the \"project set-up\" experience\n",
    "api_key = 'e9hKR9ngqwXalms6q4IndwoAz'\n",
    "api_key_secret = 'mQzPQWyQvO3ikOqMGjJfKpbFTMcSJKNE9vvywpuSi1Jv0HAjGt'\n",
    "bearer_token = 'AAAAAAAAAAAAAAAAAAAAADMxgwEAAAAAcEBEj8u5Qy'"
   ]
  },
  {
   "cell_type": "code",
   "execution_count": 5,
   "id": "1f43e2c2",
   "metadata": {},
   "outputs": [],
   "source": [
    "tweepyclient = tweepy.Client(bearer_token, wait_on_rate_limit=True)"
   ]
  },
  {
   "cell_type": "code",
   "execution_count": null,
   "id": "011d6e6b",
   "metadata": {},
   "outputs": [],
   "source": [
    "# You should have data in the file that you can see via the console. Let's test it here.\n",
    "#query = (\n",
    "#    \"SELECT * \"\n",
    "#    \"FROM `footprintsrunning.twitter_scraping.trail_running`\" # change to *your*` project ID, data set ID, and table name! \n",
    "#)\n",
    "\n",
    "#results = gbqclient.query(query)\n",
    "\n",
    "#print(\"Let's print it ugly.\")\n",
    "#print(list(results))"
   ]
  },
  {
   "cell_type": "markdown",
   "id": "711192c7",
   "metadata": {},
   "source": [
    "### Clean data"
   ]
  },
  {
   "cell_type": "code",
   "execution_count": 6,
   "id": "197d38e0",
   "metadata": {},
   "outputs": [],
   "source": [
    "import pandas as pd\n",
    "import re\n",
    "import glob\n",
    "import nltk\n",
    "from nltk import word_tokenize, sent_tokenize, FreqDist\n",
    "from nltk.stem import LancasterStemmer, WordNetLemmatizer\n",
    "from nltk.tokenize import TweetTokenizer\n",
    "from nltk.corpus import stopwords\n",
    "import preprocessor as p\n",
    "import numpy as np\n",
    "words = set(nltk.corpus.words.words())\n",
    "sw=set(stopwords.words('english'))"
   ]
  },
  {
   "cell_type": "code",
   "execution_count": 7,
   "id": "bd1a6b53",
   "metadata": {},
   "outputs": [],
   "source": [
    "# Upload all local csv files to single pandas dataframe\n",
    "\n",
    "path = 'data/' # use your path\n",
    "\n",
    "all_files = glob.glob(os.path.join(path, \"*.csv\"))\n",
    "\n",
    "tweets = pd.concat((pd.read_csv(f) for f in all_files), ignore_index=True)"
   ]
  },
  {
   "cell_type": "code",
   "execution_count": 8,
   "id": "87238d51",
   "metadata": {},
   "outputs": [],
   "source": [
    "def clean_tweet(tweet):\n",
    "    if type(tweet) == float:\n",
    "        return \"\"\n",
    "    temp = tweet.lower()\n",
    "    temp = re.sub(\"'\", \"\", temp) # to avoid removing contractions in english\n",
    "    temp = re.sub(\"@[A-Za-z0-9_]+\",\"\", temp)  # remove mentions\n",
    "    temp = re.sub(\"#[A-Za-z0-9_]+\",\"\", temp)  # remove hashtags\n",
    "    temp = re.sub(r'http\\S+', '', temp)  # remove links\n",
    "    temp = re.sub('[()!?]', ' ', temp)  # remove punct\n",
    "    temp = re.sub('\\[.*?\\]',' ', temp)  # remove punct\n",
    "    temp = re.sub(\"[^a-z0-9]\",\" \", temp) # remove non-alphanumeric\n",
    "    temp = temp.split()  # tokenize\n",
    "    temp = [w for w in temp if w not in sw]  # remove stopwords\n",
    "    temp = \" \".join(word for word in temp)  # rejoin into tweets again\n",
    "    return temp"
   ]
  },
  {
   "cell_type": "code",
   "execution_count": 9,
   "id": "1a891823",
   "metadata": {},
   "outputs": [],
   "source": [
    "tweets['fulltext_clean'] = tweets['full_text'].apply(clean_tweet)  # create new column of cleaned tweets"
   ]
  },
  {
   "cell_type": "code",
   "execution_count": 10,
   "id": "2ab0ac67",
   "metadata": {},
   "outputs": [],
   "source": [
    "tweets_final = tweets.drop('full_text', axis=1)  # drop orig full_text column"
   ]
  },
  {
   "cell_type": "code",
   "execution_count": 11,
   "id": "fc7c9b4d",
   "metadata": {},
   "outputs": [],
   "source": [
    "tweets['desc_clean'] = tweets['description'].apply(clean_tweet)  # create new column of cleaned tweets"
   ]
  },
  {
   "cell_type": "code",
   "execution_count": 12,
   "id": "8f20b43f",
   "metadata": {},
   "outputs": [],
   "source": [
    "tweets_final = tweets.drop('description', axis=1)  # drop orig full_text column"
   ]
  },
  {
   "cell_type": "code",
   "execution_count": 13,
   "id": "511269a5",
   "metadata": {},
   "outputs": [
    {
     "data": {
      "text/html": [
       "<div>\n",
       "<style scoped>\n",
       "    .dataframe tbody tr th:only-of-type {\n",
       "        vertical-align: middle;\n",
       "    }\n",
       "\n",
       "    .dataframe tbody tr th {\n",
       "        vertical-align: top;\n",
       "    }\n",
       "\n",
       "    .dataframe thead th {\n",
       "        text-align: right;\n",
       "    }\n",
       "</style>\n",
       "<table border=\"1\" class=\"dataframe\">\n",
       "  <thead>\n",
       "    <tr style=\"text-align: right;\">\n",
       "      <th></th>\n",
       "      <th>user_id</th>\n",
       "      <th>screen_name</th>\n",
       "      <th>location</th>\n",
       "      <th>friends_count</th>\n",
       "      <th>followers_count</th>\n",
       "      <th>totaltweets</th>\n",
       "      <th>date_created</th>\n",
       "      <th>tweet_id</th>\n",
       "      <th>retweetcount</th>\n",
       "      <th>full_text</th>\n",
       "      <th>fulltext_clean</th>\n",
       "      <th>desc_clean</th>\n",
       "    </tr>\n",
       "  </thead>\n",
       "  <tbody>\n",
       "    <tr>\n",
       "      <th>0</th>\n",
       "      <td>80147238</td>\n",
       "      <td>mendonca1969</td>\n",
       "      <td>Canada</td>\n",
       "      <td>675</td>\n",
       "      <td>594</td>\n",
       "      <td>35759</td>\n",
       "      <td>2022-09-04 23:58:16+00:00</td>\n",
       "      <td>1566576408469639171</td>\n",
       "      <td>0</td>\n",
       "      <td>VINYL NOW PLAYING: Jessie Ware “Devotion 10 An...</td>\n",
       "      <td>vinyl playing jessie ware devotion 10 annivers...</td>\n",
       "      <td>advocate environment animals lgbtqi lover viny...</td>\n",
       "    </tr>\n",
       "    <tr>\n",
       "      <th>1</th>\n",
       "      <td>1303924252090028032</td>\n",
       "      <td>RoseGarde4</td>\n",
       "      <td>NaN</td>\n",
       "      <td>103</td>\n",
       "      <td>46</td>\n",
       "      <td>1081</td>\n",
       "      <td>2022-09-04 23:56:51+00:00</td>\n",
       "      <td>1566576052578783232</td>\n",
       "      <td>0</td>\n",
       "      <td>A glimpse of today's adventure with my husband...</td>\n",
       "      <td>glimpse todays adventure husband</td>\n",
       "      <td>canadian encourage write create art garden exe...</td>\n",
       "    </tr>\n",
       "    <tr>\n",
       "      <th>2</th>\n",
       "      <td>1566571989564809217</td>\n",
       "      <td>RjpsTop15</td>\n",
       "      <td>NaN</td>\n",
       "      <td>9</td>\n",
       "      <td>1</td>\n",
       "      <td>9</td>\n",
       "      <td>2022-09-04 23:56:47+00:00</td>\n",
       "      <td>1566576038376869889</td>\n",
       "      <td>0</td>\n",
       "      <td>VINYL NOW PLAYING: Jessie Ware “Devotion 10 An...</td>\n",
       "      <td>vinyl playing jessie ware devotion 10 annivers...</td>\n",
       "      <td></td>\n",
       "    </tr>\n",
       "    <tr>\n",
       "      <th>3</th>\n",
       "      <td>1506286335623061516</td>\n",
       "      <td>OrvilleBernard6</td>\n",
       "      <td>NaN</td>\n",
       "      <td>297</td>\n",
       "      <td>78</td>\n",
       "      <td>22</td>\n",
       "      <td>2022-09-04 23:55:48+00:00</td>\n",
       "      <td>1566575790170701824</td>\n",
       "      <td>1</td>\n",
       "      <td>Running is Big ocean 🌊#MoonFit #GameFi  #Dotsa...</td>\n",
       "      <td>running big ocean</td>\n",
       "      <td>coming soon</td>\n",
       "    </tr>\n",
       "    <tr>\n",
       "      <th>4</th>\n",
       "      <td>1512801104135962628</td>\n",
       "      <td>lean_parenthood</td>\n",
       "      <td>NaN</td>\n",
       "      <td>3350</td>\n",
       "      <td>1367</td>\n",
       "      <td>2087</td>\n",
       "      <td>2022-09-04 23:50:49+00:00</td>\n",
       "      <td>1566574535717036034</td>\n",
       "      <td>0</td>\n",
       "      <td>3 mile #run done tonight. Wet, humid night, bu...</td>\n",
       "      <td>3 mile done tonight wet humid night get</td>\n",
       "      <td>documenting journey getting lean new dad weigh...</td>\n",
       "    </tr>\n",
       "  </tbody>\n",
       "</table>\n",
       "</div>"
      ],
      "text/plain": [
       "               user_id      screen_name location  friends_count  \\\n",
       "0             80147238     mendonca1969   Canada            675   \n",
       "1  1303924252090028032       RoseGarde4      NaN            103   \n",
       "2  1566571989564809217        RjpsTop15      NaN              9   \n",
       "3  1506286335623061516  OrvilleBernard6      NaN            297   \n",
       "4  1512801104135962628  lean_parenthood      NaN           3350   \n",
       "\n",
       "   followers_count  totaltweets               date_created  \\\n",
       "0              594        35759  2022-09-04 23:58:16+00:00   \n",
       "1               46         1081  2022-09-04 23:56:51+00:00   \n",
       "2                1            9  2022-09-04 23:56:47+00:00   \n",
       "3               78           22  2022-09-04 23:55:48+00:00   \n",
       "4             1367         2087  2022-09-04 23:50:49+00:00   \n",
       "\n",
       "              tweet_id  retweetcount  \\\n",
       "0  1566576408469639171             0   \n",
       "1  1566576052578783232             0   \n",
       "2  1566576038376869889             0   \n",
       "3  1566575790170701824             1   \n",
       "4  1566574535717036034             0   \n",
       "\n",
       "                                           full_text  \\\n",
       "0  VINYL NOW PLAYING: Jessie Ware “Devotion 10 An...   \n",
       "1  A glimpse of today's adventure with my husband...   \n",
       "2  VINYL NOW PLAYING: Jessie Ware “Devotion 10 An...   \n",
       "3  Running is Big ocean 🌊#MoonFit #GameFi  #Dotsa...   \n",
       "4  3 mile #run done tonight. Wet, humid night, bu...   \n",
       "\n",
       "                                      fulltext_clean  \\\n",
       "0  vinyl playing jessie ware devotion 10 annivers...   \n",
       "1                   glimpse todays adventure husband   \n",
       "2  vinyl playing jessie ware devotion 10 annivers...   \n",
       "3                                  running big ocean   \n",
       "4            3 mile done tonight wet humid night get   \n",
       "\n",
       "                                          desc_clean  \n",
       "0  advocate environment animals lgbtqi lover viny...  \n",
       "1  canadian encourage write create art garden exe...  \n",
       "2                                                     \n",
       "3                                        coming soon  \n",
       "4  documenting journey getting lean new dad weigh...  "
      ]
     },
     "execution_count": 13,
     "metadata": {},
     "output_type": "execute_result"
    }
   ],
   "source": [
    "tweets_final.head()"
   ]
  },
  {
   "cell_type": "markdown",
   "id": "cfc3b66f",
   "metadata": {},
   "source": [
    "### Upload data"
   ]
  },
  {
   "cell_type": "code",
   "execution_count": 14,
   "id": "8033bd43",
   "metadata": {},
   "outputs": [],
   "source": [
    "import pandas_gbq"
   ]
  },
  {
   "cell_type": "code",
   "execution_count": 15,
   "id": "39382d26",
   "metadata": {},
   "outputs": [],
   "source": [
    "table_id = 'footprintsrunning.twitter_scraping.trail_running'"
   ]
  },
  {
   "cell_type": "markdown",
   "id": "d4ea20bb",
   "metadata": {},
   "source": [
    "### Note for JC: Need to update so table is not replaced each time, but instead code checks for duplicate tweet IDs and skips if ID is already in GBQ. Some combination of first checking for dupes and then if_exists=\"append\" ??"
   ]
  },
  {
   "cell_type": "code",
   "execution_count": 16,
   "id": "e35aeb01",
   "metadata": {},
   "outputs": [
    {
     "name": "stderr",
     "output_type": "stream",
     "text": [
      "100%|███████████████████████████████████████████| 1/1 [00:00<00:00, 2432.89it/s]\n"
     ]
    }
   ],
   "source": [
    "pandas_gbq.to_gbq(tweets_final, table_id, gbq_proj_id, if_exists=\"replace\")"
   ]
  },
  {
   "cell_type": "code",
   "execution_count": 17,
   "id": "eb29aef2",
   "metadata": {},
   "outputs": [
    {
     "name": "stdout",
     "output_type": "stream",
     "text": [
      "Got table 'footprintsrunning.twitter_scraping.trail_running'.\n",
      "Table schema: [SchemaField('user_id', 'INTEGER', 'NULLABLE', None, (), None), SchemaField('screen_name', 'STRING', 'NULLABLE', None, (), None), SchemaField('location', 'STRING', 'NULLABLE', None, (), None), SchemaField('friends_count', 'INTEGER', 'NULLABLE', None, (), None), SchemaField('followers_count', 'INTEGER', 'NULLABLE', None, (), None), SchemaField('totaltweets', 'INTEGER', 'NULLABLE', None, (), None), SchemaField('date_created', 'STRING', 'NULLABLE', None, (), None), SchemaField('tweet_id', 'INTEGER', 'NULLABLE', None, (), None), SchemaField('retweetcount', 'INTEGER', 'NULLABLE', None, (), None), SchemaField('full_text', 'STRING', 'NULLABLE', None, (), None), SchemaField('fulltext_clean', 'STRING', 'NULLABLE', None, (), None), SchemaField('desc_clean', 'STRING', 'NULLABLE', None, (), None)]\n",
      "Table description: None\n",
      "Table has 89354 rows\n"
     ]
    }
   ],
   "source": [
    "table = gbqclient.get_table(table_id)  # Make an API request.\n",
    "\n",
    "# View table properties\n",
    "print(\n",
    "    \"Got table '{}.{}.{}'.\".format(table.project, table.dataset_id, table.table_id)\n",
    ")\n",
    "print(\"Table schema: {}\".format(table.schema))\n",
    "print(\"Table description: {}\".format(table.description))\n",
    "print(\"Table has {} rows\".format(table.num_rows))"
   ]
  },
  {
   "cell_type": "code",
   "execution_count": null,
   "id": "358d0baf",
   "metadata": {},
   "outputs": [],
   "source": []
  }
 ],
 "metadata": {
  "kernelspec": {
   "display_name": "Python 3 (ipykernel)",
   "language": "python",
   "name": "python3"
  },
  "language_info": {
   "codemirror_mode": {
    "name": "ipython",
    "version": 3
   },
   "file_extension": ".py",
   "mimetype": "text/x-python",
   "name": "python",
   "nbconvert_exporter": "python",
   "pygments_lexer": "ipython3",
   "version": "3.9.7"
  }
 },
 "nbformat": 4,
 "nbformat_minor": 5
}
