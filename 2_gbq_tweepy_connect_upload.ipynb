{
 "cells": [
  {
   "cell_type": "code",
   "execution_count": 1,
   "id": "d33b20ff",
   "metadata": {},
   "outputs": [],
   "source": [
    "import os\n",
    "import io\n",
    "import tweepy\n",
    "from google.cloud import bigquery\n",
    "from google.oauth2 import service_account\n",
    "import pandas_gbq"
   ]
  },
  {
   "cell_type": "markdown",
   "id": "180f65c9",
   "metadata": {},
   "source": [
    "### Connect to GBQ"
   ]
  },
  {
   "cell_type": "code",
   "execution_count": 2,
   "id": "ecf0844d",
   "metadata": {},
   "outputs": [],
   "source": [
    "# Do our imports for the code\n",
    "from google.cloud import bigquery\n",
    "from google.oauth2 import service_account\n",
    "\n",
    "# Set authentication info\n",
    "service_path = \"/Users/natebender/Desktop/repo/footprints/footprints_audience/\"\n",
    "service_file = 'footprintsrunning-d15e651db9a6.json' # change this to your authentication information  \n",
    "gbq_proj_id = 'footprintsrunning' # change this to your poroject. \n",
    "\n",
    "# And this should stay the same. \n",
    "private_key = service_path + service_file\n",
    "\n",
    "# Now we pass in our credentials so that Python has permission to access our project.\n",
    "credentials = service_account.Credentials.from_service_account_file(service_path + service_file)\n",
    "\n",
    "# And finally we establish our connection\n",
    "gbqclient = bigquery.Client(credentials = credentials, project=gbq_proj_id)\n",
    "\n",
    "# Set table ID variable\n",
    "table_id = 'footprintsrunning.twitter_scraping.trail_running'"
   ]
  },
  {
   "cell_type": "code",
   "execution_count": 3,
   "id": "f4e37415",
   "metadata": {},
   "outputs": [
    {
     "data": {
      "text/plain": [
       "['.DS_Store', 'old', '20221101_000000_trailrunningtweets.csv']"
      ]
     },
     "execution_count": 3,
     "metadata": {},
     "output_type": "execute_result"
    }
   ],
   "source": [
    "# Test connection\n",
    "clean_files = \"/Users/natebender/Desktop/repo/footprints/footprints_audience/data\"\n",
    "os.listdir(clean_files)"
   ]
  },
  {
   "cell_type": "markdown",
   "id": "4a2b66ff",
   "metadata": {},
   "source": [
    "### Connect to Tweepy"
   ]
  },
  {
   "cell_type": "code",
   "execution_count": 4,
   "id": "15db66ab",
   "metadata": {},
   "outputs": [],
   "source": [
    "# Set connection to Tweepy\n",
    "\n",
    "# From the \"project set-up\" experience\n",
    "api_key = 'e9hKR9ngqwXalms6q4IndwoAz'\n",
    "api_key_secret = 'mQzPQWyQvO3ikOqMGjJfKpbFTMcSJKNE9vvywpuSi1Jv0HAjGt'\n",
    "bearer_token = 'AAAAAAAAAAAAAAAAAAAAADMxgwEAAAAAcEBEj8u5Qy'  "
   ]
  },
  {
   "cell_type": "code",
   "execution_count": 5,
   "id": "1f43e2c2",
   "metadata": {},
   "outputs": [],
   "source": [
    "tweepyclient = tweepy.Client(bearer_token, wait_on_rate_limit=True)"
   ]
  },
  {
   "cell_type": "code",
   "execution_count": 6,
   "id": "011d6e6b",
   "metadata": {},
   "outputs": [],
   "source": [
    "# You should have data in the file that you can see via the console. Let's test it here.\n",
    "#query = (\n",
    "#    \"SELECT * \"\n",
    "#    \"FROM `footprintsrunning.twitter_scraping.trail_running`\" # change to *your*` project ID, data set ID, and table name! \n",
    "#)\n",
    "\n",
    "#results = gbqclient.query(query)\n",
    "\n",
    "#print(\"Let's print it ugly.\")\n",
    "#print(list(results))"
   ]
  },
  {
   "cell_type": "markdown",
   "id": "711192c7",
   "metadata": {},
   "source": [
    "### Clean data"
   ]
  },
  {
   "cell_type": "code",
   "execution_count": 7,
   "id": "197d38e0",
   "metadata": {},
   "outputs": [],
   "source": [
    "import pandas as pd\n",
    "import re\n",
    "import glob\n",
    "import nltk\n",
    "from nltk import word_tokenize, sent_tokenize, FreqDist\n",
    "from nltk.stem import LancasterStemmer, WordNetLemmatizer\n",
    "from nltk.tokenize import TweetTokenizer\n",
    "from nltk.corpus import stopwords\n",
    "import preprocessor as p\n",
    "import numpy as np\n",
    "words = set(nltk.corpus.words.words())\n",
    "sw=set(stopwords.words('english'))"
   ]
  },
  {
   "cell_type": "code",
   "execution_count": 8,
   "id": "bd1a6b53",
   "metadata": {},
   "outputs": [],
   "source": [
    "# Upload all local csv files to single pandas dataframe\n",
    "\n",
    "path = 'data/' # use your path\n",
    "\n",
    "all_files = glob.glob(os.path.join(path, \"*.csv\"))\n",
    "\n",
    "tweets = pd.concat((pd.read_csv(f) for f in all_files), ignore_index=True)"
   ]
  },
  {
   "cell_type": "code",
   "execution_count": 9,
   "id": "87238d51",
   "metadata": {},
   "outputs": [],
   "source": [
    "def clean_tweet(tweet):\n",
    "    if type(tweet) == float:\n",
    "        return \"\"\n",
    "    temp = tweet.lower()\n",
    "    temp = re.sub(\"'\", \"\", temp) # to avoid removing contractions in english\n",
    "    temp = re.sub(\"@[A-Za-z0-9_]+\",\"\", temp)  # remove mentions\n",
    "    temp = re.sub(\"#[A-Za-z0-9_]+\",\"\", temp)  # remove hashtags\n",
    "    temp = re.sub(r'http\\S+', '', temp)  # remove links\n",
    "    temp = re.sub('[()!?]', ' ', temp)  # remove punct\n",
    "    temp = re.sub('\\[.*?\\]',' ', temp)  # remove punct\n",
    "    temp = re.sub(\"[^a-z0-9]\",\" \", temp) # remove non-alphanumeric\n",
    "    temp = temp.split()  # tokenize\n",
    "    temp = [w for w in temp if w not in sw]  # remove stopwords\n",
    "    temp = \" \".join(word for word in temp)  # rejoin into tweets again\n",
    "    return temp"
   ]
  },
  {
   "cell_type": "code",
   "execution_count": 10,
   "id": "1a891823",
   "metadata": {},
   "outputs": [],
   "source": [
    "tweets['fulltext_clean'] = tweets['full_text'].apply(clean_tweet)  # create new column of cleaned tweets"
   ]
  },
  {
   "cell_type": "code",
   "execution_count": 11,
   "id": "2ab0ac67",
   "metadata": {},
   "outputs": [],
   "source": [
    "tweets_final = tweets.drop('full_text', axis=1)  # drop orig full_text column"
   ]
  },
  {
   "cell_type": "code",
   "execution_count": 12,
   "id": "fc7c9b4d",
   "metadata": {},
   "outputs": [],
   "source": [
    "tweets['desc_clean'] = tweets['description'].apply(clean_tweet)  # create new column of cleaned tweets"
   ]
  },
  {
   "cell_type": "code",
   "execution_count": 13,
   "id": "8f20b43f",
   "metadata": {},
   "outputs": [],
   "source": [
    "tweets_final = tweets.drop('description', axis=1)  # drop orig full_text column"
   ]
  },
  {
   "cell_type": "code",
   "execution_count": 14,
   "id": "511269a5",
   "metadata": {},
   "outputs": [
    {
     "data": {
      "text/html": [
       "<div>\n",
       "<style scoped>\n",
       "    .dataframe tbody tr th:only-of-type {\n",
       "        vertical-align: middle;\n",
       "    }\n",
       "\n",
       "    .dataframe tbody tr th {\n",
       "        vertical-align: top;\n",
       "    }\n",
       "\n",
       "    .dataframe thead th {\n",
       "        text-align: right;\n",
       "    }\n",
       "</style>\n",
       "<table border=\"1\" class=\"dataframe\">\n",
       "  <thead>\n",
       "    <tr style=\"text-align: right;\">\n",
       "      <th></th>\n",
       "      <th>user_id</th>\n",
       "      <th>screen_name</th>\n",
       "      <th>location</th>\n",
       "      <th>following_count</th>\n",
       "      <th>following</th>\n",
       "      <th>followers_count</th>\n",
       "      <th>followers</th>\n",
       "      <th>totaltweets</th>\n",
       "      <th>date_created</th>\n",
       "      <th>tweet_id</th>\n",
       "      <th>retweetcount</th>\n",
       "      <th>full_text</th>\n",
       "      <th>fulltext_clean</th>\n",
       "      <th>desc_clean</th>\n",
       "    </tr>\n",
       "  </thead>\n",
       "  <tbody>\n",
       "    <tr>\n",
       "      <th>0</th>\n",
       "      <td>848865692</td>\n",
       "      <td>kinggedcom</td>\n",
       "      <td>All over the World</td>\n",
       "      <td>0</td>\n",
       "      <td>&lt;bound method User.friends of User(_api=&lt;tweep...</td>\n",
       "      <td>350</td>\n",
       "      <td>&lt;bound method User.followers of User(_api=&lt;twe...</td>\n",
       "      <td>1617</td>\n",
       "      <td>2022-10-30 23:59:05+00:00</td>\n",
       "      <td>1586870335299031040</td>\n",
       "      <td>0</td>\n",
       "      <td>How to Get Paid to Run and 10 Best Companies &amp;...</td>\n",
       "      <td>get paid run 10 best companies amp apps pay via</td>\n",
       "      <td>personal finance site kinglike content making ...</td>\n",
       "    </tr>\n",
       "    <tr>\n",
       "      <th>1</th>\n",
       "      <td>1277661655825088514</td>\n",
       "      <td>ephemeralisall</td>\n",
       "      <td>In a hive of scum and villainy</td>\n",
       "      <td>642</td>\n",
       "      <td>&lt;bound method User.friends of User(_api=&lt;tweep...</td>\n",
       "      <td>215</td>\n",
       "      <td>&lt;bound method User.followers of User(_api=&lt;twe...</td>\n",
       "      <td>7457</td>\n",
       "      <td>2022-10-30 23:57:49+00:00</td>\n",
       "      <td>1586870018494681089</td>\n",
       "      <td>1</td>\n",
       "      <td>“Letting go gives us freedom, and freedom is t...</td>\n",
       "      <td>letting go gives us freedom freedom condition ...</td>\n",
       "      <td>trying make sense world creativity music films...</td>\n",
       "    </tr>\n",
       "    <tr>\n",
       "      <th>2</th>\n",
       "      <td>1341858024</td>\n",
       "      <td>WIHLiving</td>\n",
       "      <td>Chattanooga, TN</td>\n",
       "      <td>6052</td>\n",
       "      <td>&lt;bound method User.friends of User(_api=&lt;tweep...</td>\n",
       "      <td>6171</td>\n",
       "      <td>&lt;bound method User.followers of User(_api=&lt;twe...</td>\n",
       "      <td>6574</td>\n",
       "      <td>2022-10-30 23:53:20+00:00</td>\n",
       "      <td>1586868890826686465</td>\n",
       "      <td>0</td>\n",
       "      <td>Listen to music while #running? Awesome @Spoti...</td>\n",
       "      <td>listen music awesome playlist</td>\n",
       "      <td>hi jan rc eat clean inspire living others simp...</td>\n",
       "    </tr>\n",
       "    <tr>\n",
       "      <th>3</th>\n",
       "      <td>3318927887</td>\n",
       "      <td>oldrunningmom</td>\n",
       "      <td>Chicago, IL</td>\n",
       "      <td>2836</td>\n",
       "      <td>&lt;bound method User.friends of User(_api=&lt;tweep...</td>\n",
       "      <td>1964</td>\n",
       "      <td>&lt;bound method User.followers of User(_api=&lt;twe...</td>\n",
       "      <td>13152</td>\n",
       "      <td>2022-10-30 23:44:21+00:00</td>\n",
       "      <td>1586866630646288384</td>\n",
       "      <td>0</td>\n",
       "      <td>#WeeklyRunDown: Surviving Hell Week #OTF #OTFH...</td>\n",
       "      <td>surviving hell week via</td>\n",
       "      <td>outrunning old age rheumatoid arthritis wannab...</td>\n",
       "    </tr>\n",
       "    <tr>\n",
       "      <th>4</th>\n",
       "      <td>45187217</td>\n",
       "      <td>ToshioK</td>\n",
       "      <td>NaN</td>\n",
       "      <td>749</td>\n",
       "      <td>&lt;bound method User.friends of User(_api=&lt;tweep...</td>\n",
       "      <td>1889</td>\n",
       "      <td>&lt;bound method User.followers of User(_api=&lt;twe...</td>\n",
       "      <td>97661</td>\n",
       "      <td>2022-10-30 23:44:08+00:00</td>\n",
       "      <td>1586866574115627008</td>\n",
       "      <td>0</td>\n",
       "      <td>Autumn path. #Nature #Hiking #Trail #Forest #A...</td>\n",
       "      <td>autumn path</td>\n",
       "      <td>photographer lawyer traveler nowhere everywher...</td>\n",
       "    </tr>\n",
       "  </tbody>\n",
       "</table>\n",
       "</div>"
      ],
      "text/plain": [
       "               user_id     screen_name                        location  \\\n",
       "0            848865692      kinggedcom              All over the World   \n",
       "1  1277661655825088514  ephemeralisall  In a hive of scum and villainy   \n",
       "2           1341858024       WIHLiving                 Chattanooga, TN   \n",
       "3           3318927887   oldrunningmom                     Chicago, IL   \n",
       "4             45187217         ToshioK                             NaN   \n",
       "\n",
       "   following_count                                          following  \\\n",
       "0                0  <bound method User.friends of User(_api=<tweep...   \n",
       "1              642  <bound method User.friends of User(_api=<tweep...   \n",
       "2             6052  <bound method User.friends of User(_api=<tweep...   \n",
       "3             2836  <bound method User.friends of User(_api=<tweep...   \n",
       "4              749  <bound method User.friends of User(_api=<tweep...   \n",
       "\n",
       "   followers_count                                          followers  \\\n",
       "0              350  <bound method User.followers of User(_api=<twe...   \n",
       "1              215  <bound method User.followers of User(_api=<twe...   \n",
       "2             6171  <bound method User.followers of User(_api=<twe...   \n",
       "3             1964  <bound method User.followers of User(_api=<twe...   \n",
       "4             1889  <bound method User.followers of User(_api=<twe...   \n",
       "\n",
       "   totaltweets               date_created             tweet_id  retweetcount  \\\n",
       "0         1617  2022-10-30 23:59:05+00:00  1586870335299031040             0   \n",
       "1         7457  2022-10-30 23:57:49+00:00  1586870018494681089             1   \n",
       "2         6574  2022-10-30 23:53:20+00:00  1586868890826686465             0   \n",
       "3        13152  2022-10-30 23:44:21+00:00  1586866630646288384             0   \n",
       "4        97661  2022-10-30 23:44:08+00:00  1586866574115627008             0   \n",
       "\n",
       "                                           full_text  \\\n",
       "0  How to Get Paid to Run and 10 Best Companies &...   \n",
       "1  “Letting go gives us freedom, and freedom is t...   \n",
       "2  Listen to music while #running? Awesome @Spoti...   \n",
       "3  #WeeklyRunDown: Surviving Hell Week #OTF #OTFH...   \n",
       "4  Autumn path. #Nature #Hiking #Trail #Forest #A...   \n",
       "\n",
       "                                      fulltext_clean  \\\n",
       "0    get paid run 10 best companies amp apps pay via   \n",
       "1  letting go gives us freedom freedom condition ...   \n",
       "2                      listen music awesome playlist   \n",
       "3                            surviving hell week via   \n",
       "4                                        autumn path   \n",
       "\n",
       "                                          desc_clean  \n",
       "0  personal finance site kinglike content making ...  \n",
       "1  trying make sense world creativity music films...  \n",
       "2  hi jan rc eat clean inspire living others simp...  \n",
       "3  outrunning old age rheumatoid arthritis wannab...  \n",
       "4  photographer lawyer traveler nowhere everywher...  "
      ]
     },
     "execution_count": 14,
     "metadata": {},
     "output_type": "execute_result"
    }
   ],
   "source": [
    "tweets_final.head()"
   ]
  },
  {
   "cell_type": "markdown",
   "id": "cfc3b66f",
   "metadata": {},
   "source": [
    "### Upload data"
   ]
  },
  {
   "cell_type": "markdown",
   "id": "d4ea20bb",
   "metadata": {},
   "source": [
    "### Note for JC: Need to update so table is not replaced each time, but instead code checks for duplicate tweet IDs and skips if ID is already in GBQ. Some combination of first checking for dupes and then if_exists=\"append\" ??"
   ]
  },
  {
   "cell_type": "code",
   "execution_count": 16,
   "id": "e35aeb01",
   "metadata": {},
   "outputs": [
    {
     "name": "stderr",
     "output_type": "stream",
     "text": [
      "100%|███████████████████████████████████████████| 1/1 [00:00<00:00, 2432.89it/s]\n"
     ]
    }
   ],
   "source": [
    "pandas_gbq.to_gbq(tweets_final, table_id, gbq_proj_id, if_exists=\"replace\")"
   ]
  },
  {
   "cell_type": "code",
   "execution_count": 17,
   "id": "eb29aef2",
   "metadata": {},
   "outputs": [
    {
     "name": "stdout",
     "output_type": "stream",
     "text": [
      "Got table 'footprintsrunning.twitter_scraping.trail_running'.\n",
      "Table schema: [SchemaField('user_id', 'INTEGER', 'NULLABLE', None, (), None), SchemaField('screen_name', 'STRING', 'NULLABLE', None, (), None), SchemaField('location', 'STRING', 'NULLABLE', None, (), None), SchemaField('friends_count', 'INTEGER', 'NULLABLE', None, (), None), SchemaField('followers_count', 'INTEGER', 'NULLABLE', None, (), None), SchemaField('totaltweets', 'INTEGER', 'NULLABLE', None, (), None), SchemaField('date_created', 'STRING', 'NULLABLE', None, (), None), SchemaField('tweet_id', 'INTEGER', 'NULLABLE', None, (), None), SchemaField('retweetcount', 'INTEGER', 'NULLABLE', None, (), None), SchemaField('full_text', 'STRING', 'NULLABLE', None, (), None), SchemaField('fulltext_clean', 'STRING', 'NULLABLE', None, (), None), SchemaField('desc_clean', 'STRING', 'NULLABLE', None, (), None)]\n",
      "Table description: None\n",
      "Table has 89354 rows\n"
     ]
    }
   ],
   "source": [
    "table = gbqclient.get_table(table_id)  # Make an API request.\n",
    "\n",
    "# View table properties\n",
    "print(\n",
    "    \"Got table '{}.{}.{}'.\".format(table.project, table.dataset_id, table.table_id)\n",
    ")\n",
    "print(\"Table schema: {}\".format(table.schema))\n",
    "print(\"Table description: {}\".format(table.description))\n",
    "print(\"Table has {} rows\".format(table.num_rows))"
   ]
  },
  {
   "cell_type": "code",
   "execution_count": null,
   "id": "358d0baf",
   "metadata": {},
   "outputs": [],
   "source": []
  }
 ],
 "metadata": {
  "kernelspec": {
   "display_name": "Python 3 (ipykernel)",
   "language": "python",
   "name": "python3"
  },
  "language_info": {
   "codemirror_mode": {
    "name": "ipython",
    "version": 3
   },
   "file_extension": ".py",
   "mimetype": "text/x-python",
   "name": "python",
   "nbconvert_exporter": "python",
   "pygments_lexer": "ipython3",
   "version": "3.9.7"
  }
 },
 "nbformat": 4,
 "nbformat_minor": 5
}
