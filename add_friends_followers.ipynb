{
 "cells": [
  {
   "cell_type": "code",
   "execution_count": 1,
   "id": "cb172e5e",
   "metadata": {},
   "outputs": [],
   "source": [
    "import datetime\n",
    "import tweepy\n",
    "import config\n",
    "from tweepy import OAuthHandler\n",
    "import json\n",
    "import pandas as pd\n",
    "import csv\n",
    "import os\n",
    "import time\n",
    "import glob\n",
    "import re\n",
    "import nltk\n",
    "from nltk import word_tokenize, sent_tokenize, FreqDist\n",
    "from nltk.stem import LancasterStemmer, WordNetLemmatizer\n",
    "from nltk.tokenize import TweetTokenizer\n",
    "from nltk.corpus import stopwords\n",
    "import preprocessor as p\n",
    "import numpy as np\n",
    "words = set(nltk.corpus.words.words())\n",
    "sw=set(stopwords.words('english'))"
   ]
  },
  {
   "cell_type": "code",
   "execution_count": 2,
   "id": "1b9f32de",
   "metadata": {},
   "outputs": [],
   "source": [
    "# Set connection to Tweepy with academic account. I've put my API keys in a .py file called API_keys.py\n",
    "from my_api_keys import bearer_token\n",
    "tweepyclient = tweepy.Client(bearer_token, wait_on_rate_limit=True)"
   ]
  },
  {
   "cell_type": "code",
   "execution_count": 3,
   "id": "bba29dfd",
   "metadata": {},
   "outputs": [],
   "source": [
    "# Upload all local csv files to single pandas dataframe\n",
    "\n",
    "path = 'data/' # use your path\n",
    "\n",
    "trail_files = glob.glob(os.path.join(path, \"*trailrunning.csv\"))\n",
    "climate_files = glob.glob(os.path.join(path, \"*climate.csv\"))\n",
    "\n",
    "trailtweets = pd.concat((pd.read_csv(f) for f in trail_files), ignore_index=True)\n",
    "climatetweets = pd.concat((pd.read_csv(f) for f in climate_files), ignore_index=True)"
   ]
  },
  {
   "cell_type": "code",
   "execution_count": 4,
   "id": "0f7768b3",
   "metadata": {},
   "outputs": [
    {
     "data": {
      "text/plain": [
       "['data/20221110_000000_tweets_trailrunning.csv']"
      ]
     },
     "execution_count": 4,
     "metadata": {},
     "output_type": "execute_result"
    }
   ],
   "source": [
    "trail_files"
   ]
  },
  {
   "cell_type": "code",
   "execution_count": 5,
   "id": "1115a5ed",
   "metadata": {},
   "outputs": [],
   "source": [
    "def clean_tweet(tweet):\n",
    "    if type(tweet) == float:\n",
    "        return \"\"\n",
    "    temp = tweet.lower()\n",
    "    temp = re.sub(\"'\", \"\", temp) # to avoid removing contractions in english\n",
    "    temp = re.sub(\"@[A-Za-z0-9_]+\",\"\", temp)  # remove mentions\n",
    "    temp = re.sub(\"#[A-Za-z0-9_]+\",\"\", temp)  # remove hashtags\n",
    "    temp = re.sub(r'http\\S+', '', temp)  # remove links\n",
    "    temp = re.sub('[()!?]', ' ', temp)  # remove punct\n",
    "    temp = re.sub('\\[.*?\\]',' ', temp)  # remove punct\n",
    "    temp = re.sub(\"[^a-z0-9]\",\" \", temp) # remove non-alphanumeric\n",
    "    temp = temp.split()  # tokenize\n",
    "    temp = [w for w in temp if w not in sw]  # remove stopwords\n",
    "    temp = \" \".join(word for word in temp)  # rejoin into tweets again\n",
    "    return temp"
   ]
  },
  {
   "cell_type": "code",
   "execution_count": 6,
   "id": "7ac5fc19",
   "metadata": {},
   "outputs": [],
   "source": [
    "trailtweets['fulltext_clean'] = trailtweets['text'].apply(clean_tweet)  # create new column of cleaned tweets"
   ]
  },
  {
   "cell_type": "code",
   "execution_count": 7,
   "id": "3fd8a008",
   "metadata": {},
   "outputs": [],
   "source": [
    "test = trailtweets.head(3)"
   ]
  },
  {
   "cell_type": "code",
   "execution_count": 8,
   "id": "7a94c1b9",
   "metadata": {},
   "outputs": [
    {
     "data": {
      "text/html": [
       "<div>\n",
       "<style scoped>\n",
       "    .dataframe tbody tr th:only-of-type {\n",
       "        vertical-align: middle;\n",
       "    }\n",
       "\n",
       "    .dataframe tbody tr th {\n",
       "        vertical-align: top;\n",
       "    }\n",
       "\n",
       "    .dataframe thead th {\n",
       "        text-align: right;\n",
       "    }\n",
       "</style>\n",
       "<table border=\"1\" class=\"dataframe\">\n",
       "  <thead>\n",
       "    <tr style=\"text-align: right;\">\n",
       "      <th></th>\n",
       "      <th>user_id</th>\n",
       "      <th>username</th>\n",
       "      <th>follower_count</th>\n",
       "      <th>total_tweets</th>\n",
       "      <th>description</th>\n",
       "      <th>location</th>\n",
       "      <th>tweet_id</th>\n",
       "      <th>text</th>\n",
       "      <th>created_at</th>\n",
       "      <th>retweets_count</th>\n",
       "      <th>replies_count</th>\n",
       "      <th>likes_count</th>\n",
       "      <th>quote_count</th>\n",
       "      <th>fulltext_clean</th>\n",
       "    </tr>\n",
       "  </thead>\n",
       "  <tbody>\n",
       "    <tr>\n",
       "      <th>0</th>\n",
       "      <td>1493747747115405313</td>\n",
       "      <td>JunJP0903</td>\n",
       "      <td>944</td>\n",
       "      <td>10694</td>\n",
       "      <td>男性\\n公立中学校教諭→塾経営→NPO法人代表理事→現在サイト運営\\n\\nオリジナルアイテム...</td>\n",
       "      <td>Nishinomiya-shi, Hyogo</td>\n",
       "      <td>1590131096196624384</td>\n",
       "      <td>RT @meesuke1: #PrayForWorldPeace 🍀🌏\\n#イマソラ #いま...</td>\n",
       "      <td>2022-11-08 23:56:11+00:00</td>\n",
       "      <td>11</td>\n",
       "      <td>0</td>\n",
       "      <td>0</td>\n",
       "      <td>0</td>\n",
       "      <td>rt 6 127 4 4km 179kcal 57</td>\n",
       "    </tr>\n",
       "    <tr>\n",
       "      <th>1</th>\n",
       "      <td>22719296</td>\n",
       "      <td>B3toRamirez</td>\n",
       "      <td>532</td>\n",
       "      <td>36116</td>\n",
       "      <td>ESL/EFL Teacher 💙🐺 Hincha de @Macara_Oficial. ...</td>\n",
       "      <td>Ambato, Ecuador</td>\n",
       "      <td>1590130296208650240</td>\n",
       "      <td>RT @EfrenIcaza: @Ladrillazo Normalmente los so...</td>\n",
       "      <td>2022-11-08 23:53:00+00:00</td>\n",
       "      <td>4</td>\n",
       "      <td>0</td>\n",
       "      <td>0</td>\n",
       "      <td>0</td>\n",
       "      <td>rt normalmente los solitarios escogemos el el ...</td>\n",
       "    </tr>\n",
       "    <tr>\n",
       "      <th>2</th>\n",
       "      <td>1131468540</td>\n",
       "      <td>Dinsdale81</td>\n",
       "      <td>384</td>\n",
       "      <td>12012</td>\n",
       "      <td>Ipswich Town FC 🚜🚜\\n40, Anglia.\\nTraining for ...</td>\n",
       "      <td>Suffolk</td>\n",
       "      <td>1590130167623450624</td>\n",
       "      <td>Wet run today. Ran an old trail route that I u...</td>\n",
       "      <td>2022-11-08 23:52:29+00:00</td>\n",
       "      <td>0</td>\n",
       "      <td>0</td>\n",
       "      <td>1</td>\n",
       "      <td>0</td>\n",
       "      <td>wet run today ran old trail route used maratho...</td>\n",
       "    </tr>\n",
       "  </tbody>\n",
       "</table>\n",
       "</div>"
      ],
      "text/plain": [
       "               user_id     username  follower_count  total_tweets  \\\n",
       "0  1493747747115405313    JunJP0903             944         10694   \n",
       "1             22719296  B3toRamirez             532         36116   \n",
       "2           1131468540   Dinsdale81             384         12012   \n",
       "\n",
       "                                         description                location  \\\n",
       "0  男性\\n公立中学校教諭→塾経営→NPO法人代表理事→現在サイト運営\\n\\nオリジナルアイテム...  Nishinomiya-shi, Hyogo   \n",
       "1  ESL/EFL Teacher 💙🐺 Hincha de @Macara_Oficial. ...         Ambato, Ecuador   \n",
       "2  Ipswich Town FC 🚜🚜\\n40, Anglia.\\nTraining for ...                 Suffolk   \n",
       "\n",
       "              tweet_id                                               text  \\\n",
       "0  1590131096196624384  RT @meesuke1: #PrayForWorldPeace 🍀🌏\\n#イマソラ #いま...   \n",
       "1  1590130296208650240  RT @EfrenIcaza: @Ladrillazo Normalmente los so...   \n",
       "2  1590130167623450624  Wet run today. Ran an old trail route that I u...   \n",
       "\n",
       "                  created_at  retweets_count  replies_count  likes_count  \\\n",
       "0  2022-11-08 23:56:11+00:00              11              0            0   \n",
       "1  2022-11-08 23:53:00+00:00               4              0            0   \n",
       "2  2022-11-08 23:52:29+00:00               0              0            1   \n",
       "\n",
       "   quote_count                                     fulltext_clean  \n",
       "0            0                          rt 6 127 4 4km 179kcal 57  \n",
       "1            0  rt normalmente los solitarios escogemos el el ...  \n",
       "2            0  wet run today ran old trail route used maratho...  "
      ]
     },
     "execution_count": 8,
     "metadata": {},
     "output_type": "execute_result"
    }
   ],
   "source": [
    "test"
   ]
  },
  {
   "cell_type": "code",
   "execution_count": 23,
   "id": "4603e2d4",
   "metadata": {},
   "outputs": [],
   "source": [
    "# test with just JC's handle\n",
    "\n",
    "handle = \"37chandler\"\n",
    "user_obj = tweepyclient.get_user(username=handle)\n",
    "\n",
    "followers = tweepyclient.get_users_followers(\n",
    "    # Learn about user fields here: \n",
    "    # https://developer.twitter.com/en/docs/twitter-api/data-dictionary/object-model/user\n",
    "    user_obj.data.id, user_fields=[\"created_at\",\"description\",\"location\",\n",
    "                                   \"public_metrics\"]\n",
    ")"
   ]
  },
  {
   "cell_type": "code",
   "execution_count": 24,
   "id": "946b1c8a",
   "metadata": {},
   "outputs": [
    {
     "name": "stdout",
     "output_type": "stream",
     "text": [
      "Lexi lists 'None' as their location.\n",
      " Following: 450, Followers: 27.\n",
      "\n",
      "Dave Renn lists 'None' as their location.\n",
      " Following: 69, Followers: 10.\n",
      "\n",
      "Lionel lists 'None' as their location.\n",
      " Following: 200, Followers: 201.\n",
      "\n"
     ]
    }
   ],
   "source": [
    "num_to_print = 3\n",
    "\n",
    "for idx, user in enumerate(followers.data) :\n",
    "    following_count = user.public_metrics['following_count']\n",
    "    followers_count = user.public_metrics['followers_count']\n",
    "    \n",
    "    print(f\"{user.name} lists '{user.location}' as their location.\")\n",
    "    print(f\" Following: {following_count}, Followers: {followers_count}.\")\n",
    "    print()\n",
    "    \n",
    "    if idx >= (num_to_print - 1) :\n",
    "        break"
   ]
  },
  {
   "cell_type": "code",
   "execution_count": 29,
   "id": "f0a42459",
   "metadata": {},
   "outputs": [
    {
     "name": "stdout",
     "output_type": "stream",
     "text": [
      "Response(data=<User id=1493747747115405313 name=JUN username=JunJP0903>, includes={}, errors=[], meta={})\n",
      "Response(data=<User id=22719296 name=Beto Ramírez Escobar username=B3toRamirez>, includes={}, errors=[], meta={})\n",
      "Response(data=<User id=1131468540 name=Dinsdale username=Dinsdale81>, includes={}, errors=[], meta={})\n"
     ]
    }
   ],
   "source": [
    "for user in test['username']:\n",
    "    \n",
    "    followers_data = []\n",
    "    \n",
    "    user_obj = tweepyclient.get_user(username=user)\n",
    "    print(user_obj)"
   ]
  },
  {
   "cell_type": "code",
   "execution_count": 36,
   "id": "36c82c03",
   "metadata": {},
   "outputs": [],
   "source": [
    "num_followers_to_pull = 100 # feel free to use this to limit the number of followers you pull.\n",
    "\n",
    "for user in test['username']:\n",
    "    \n",
    "    followers_data = []\n",
    "    \n",
    "    user_obj = tweepyclient.get_user(username=user)\n",
    "\n",
    "    for response in tweepy.Paginator(tweepyclient.get_users_followers, user_obj.data.id,\n",
    "                                     max_results=1000, limit=num_followers_to_pull,\n",
    "                                     user_fields=[\"id\"]):\n",
    "        \n",
    "        followers_data.append(response)\n",
    "        \n",
    "    #test[user].append(followers_data)\n",
    "        \n"
   ]
  },
  {
   "cell_type": "code",
   "execution_count": 38,
   "id": "d1615b34",
   "metadata": {},
   "outputs": [
    {
     "data": {
      "text/plain": [
       "1"
      ]
     },
     "execution_count": 38,
     "metadata": {},
     "output_type": "execute_result"
    }
   ],
   "source": []
  },
  {
   "cell_type": "code",
   "execution_count": null,
   "id": "38b279ae",
   "metadata": {},
   "outputs": [],
   "source": []
  }
 ],
 "metadata": {
  "kernelspec": {
   "display_name": "Python 3 (ipykernel)",
   "language": "python",
   "name": "python3"
  },
  "language_info": {
   "codemirror_mode": {
    "name": "ipython",
    "version": 3
   },
   "file_extension": ".py",
   "mimetype": "text/x-python",
   "name": "python",
   "nbconvert_exporter": "python",
   "pygments_lexer": "ipython3",
   "version": "3.9.7"
  }
 },
 "nbformat": 4,
 "nbformat_minor": 5
}
