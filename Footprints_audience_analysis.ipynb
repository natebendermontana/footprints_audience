{
 "cells": [
  {
   "cell_type": "code",
   "execution_count": 1,
   "id": "a33b25bb",
   "metadata": {
    "slideshow": {
     "slide_type": "skip"
    }
   },
   "outputs": [
    {
     "name": "stderr",
     "output_type": "stream",
     "text": [
      "/opt/anaconda3/lib/python3.8/site-packages/scipy/sparse/sparsetools.py:21: DeprecationWarning: `scipy.sparse.sparsetools` is deprecated!\n",
      "scipy.sparse.sparsetools is a private module for scipy.sparse, and should not be used.\n",
      "  _deprecated()\n"
     ]
    }
   ],
   "source": [
    "import numpy as np\n",
    "import pandas as pd\n",
    "import os\n",
    "import sqlite3\n",
    "from nltk.corpus import stopwords\n",
    "sw = stopwords.words('english')\n",
    "sw2 = stopwords.words(\"english\")\n",
    "from string import punctuation\n",
    "punctuation = set(punctuation)\n",
    "punctuation.add(\"’\")\n",
    "import datetime\n",
    "import time\n",
    "from random import sample\n",
    "import random\n",
    "from IPython.display import Image\n",
    "\n",
    "import tweepy\n",
    "from tweepy import OAuthHandler\n",
    "# I've put my API keys in a .py file called API_keys.py\n",
    "from my_api_keys import api_key, api_key_secret, access_token, access_token_secret\n",
    "\n",
    "import json\n",
    "import csv\n",
    "import re\n",
    "import string\n",
    "from collections import Counter, defaultdict\n",
    "from pprint import pprint\n",
    "from operator import itemgetter\n",
    "import matplotlib.pyplot as plt\n",
    "\n",
    "import pyLDAvis\n",
    "import pyLDAvis.gensim_models\n",
    "import spacy\n",
    "from spacy.lang.en.stop_words import STOP_WORDS\n",
    "import gensim\n",
    "import gensim.corpora as corpora\n",
    "from gensim.utils import simple_preprocess\n",
    "from gensim.models import CoherenceModel,LdaMulticore, Phrases \n",
    "from gensim.models.phrases import Phraser \n",
    "from gensim.corpora import Dictionary\n",
    "nlp = spacy.load('en_core_web_sm')\n",
    "Lemmatizer = nlp.get_pipe(\"lemmatizer\")\n",
    "\n",
    "import nltk\n",
    "from nltk.sentiment import SentimentAnalyzer\n",
    "from nltk.sentiment.util import *\n",
    "from matplotlib.pyplot import text"
   ]
  },
  {
   "cell_type": "code",
   "execution_count": 2,
   "id": "683e2b7f",
   "metadata": {
    "slideshow": {
     "slide_type": "skip"
    }
   },
   "outputs": [
    {
     "name": "stderr",
     "output_type": "stream",
     "text": [
      "/opt/anaconda3/lib/python3.8/site-packages/ipykernel/ipkernel.py:287: DeprecationWarning: `should_run_async` will not call `transform_cell` automatically in the future. Please pass the result to `transformed_cell` argument and any exception that happen during thetransform in `preprocessing_exc_tuple` in IPython 7.17 and above.\n",
      "  and should_run_async(code)\n"
     ]
    }
   ],
   "source": [
    "# Modifications to punctuation and sw lists\n",
    "\n",
    "punctuation = set(punctuation)\n",
    "punctuation.add(\"’\")\n",
    "\n",
    "sw2 = set(sw)\n",
    "addl = (\"|\",\"-\",\"/\",\"•\",\"&\", \"&amp;\")\n",
    "sw2.update(addl)"
   ]
  },
  {
   "cell_type": "markdown",
   "id": "298fc430",
   "metadata": {
    "slideshow": {
     "slide_type": "skip"
    }
   },
   "source": [
    "####  Read daily tweets CSVs into pandas dataframe"
   ]
  },
  {
   "cell_type": "code",
   "execution_count": 3,
   "id": "71ae473b",
   "metadata": {
    "slideshow": {
     "slide_type": "skip"
    }
   },
   "outputs": [
    {
     "name": "stderr",
     "output_type": "stream",
     "text": [
      "/opt/anaconda3/lib/python3.8/site-packages/ipykernel/ipkernel.py:287: DeprecationWarning: `should_run_async` will not call `transform_cell` automatically in the future. Please pass the result to `transformed_cell` argument and any exception that happen during thetransform in `preprocessing_exc_tuple` in IPython 7.17 and above.\n",
      "  and should_run_async(code)\n"
     ]
    }
   ],
   "source": [
    "db = pd.DataFrame(columns = ['user_id','screen_name','description','location','friends_count',\n",
    "           'followers_count','totaltweets','date_created', 'tweet_id', 'retweetcount','full_text'])\n",
    "\n",
    "file_location = \"/Users/natebender/Desktop/Repo/footprints/footprints_audience/data/\"\n",
    "files = sorted(os.listdir(file_location))\n",
    "for idx, file in enumerate(files):\n",
    "    \n",
    "    data = \"\".join([file_location,file])\n",
    "    datafile = pd.read_csv(data)\n",
    "\n",
    "    db = db.append(datafile,ignore_index=True)"
   ]
  },
  {
   "cell_type": "code",
   "execution_count": 4,
   "id": "ce513612",
   "metadata": {
    "slideshow": {
     "slide_type": "skip"
    }
   },
   "outputs": [
    {
     "name": "stderr",
     "output_type": "stream",
     "text": [
      "/opt/anaconda3/lib/python3.8/site-packages/ipykernel/ipkernel.py:287: DeprecationWarning: `should_run_async` will not call `transform_cell` automatically in the future. Please pass the result to `transformed_cell` argument and any exception that happen during thetransform in `preprocessing_exc_tuple` in IPython 7.17 and above.\n",
      "  and should_run_async(code)\n"
     ]
    }
   ],
   "source": [
    "# Check desc stats on overall descriptions before splitting into groups\n",
    "def get_patterns(all_tweets) :\n",
    "\n",
    "    all_desc = all_tweets.dropna()\n",
    "    all_str = \" \".join(all_desc)    \n",
    "    clean = [w for w in all_str.split() if w.lower() not in sw2]\n",
    "    \n",
    "    # Calculate your statistics here\n",
    "    total_tokens = len(clean)\n",
    "    unique_tokens = len(set(clean))\n",
    "    clean_tok_len = [len(w) for w in clean]\n",
    "    avg_token_len = np.mean(clean_tok_len)\n",
    "    lex_diversity = len(set(clean))/len(clean)\n",
    "    top_n = Counter(clean).most_common(20)\n",
    "    \n",
    "    \n",
    "    # Now we'll fill out the dictionary. \n",
    "    results = {'tokens':total_tokens,\n",
    "               'unique_tokens':unique_tokens,\n",
    "               'avg_token_length':round(avg_token_len,2),\n",
    "               'lexical_diversity':round(lex_diversity,2),\n",
    "               'Top_n':top_n}\n",
    "\n",
    "    return(results)"
   ]
  },
  {
   "cell_type": "code",
   "execution_count": 5,
   "id": "5cf7beb4",
   "metadata": {
    "scrolled": true,
    "slideshow": {
     "slide_type": "slide"
    }
   },
   "outputs": [
    {
     "name": "stderr",
     "output_type": "stream",
     "text": [
      "/opt/anaconda3/lib/python3.8/site-packages/ipykernel/ipkernel.py:287: DeprecationWarning: `should_run_async` will not call `transform_cell` automatically in the future. Please pass the result to `transformed_cell` argument and any exception that happen during thetransform in `preprocessing_exc_tuple` in IPython 7.17 and above.\n",
      "  and should_run_async(code)\n"
     ]
    },
    {
     "name": "stdout",
     "output_type": "stream",
     "text": [
      "Database: 73,354 tweets\n",
      "Descriptive stats are:\n"
     ]
    },
    {
     "data": {
      "text/plain": [
       "{'tokens': 1366310,\n",
       " 'unique_tokens': 64709,\n",
       " 'avg_token_length': 7.87,\n",
       " 'lexical_diversity': 0.05,\n",
       " 'Top_n': [('#running', 46883),\n",
       "  ('#run', 15784),\n",
       "  ('run', 11013),\n",
       "  ('#fitness', 7290),\n",
       "  ('running', 5917),\n",
       "  ('#Running', 5637),\n",
       "  ('#trailrunning', 4823),\n",
       "  ('#runner', 4416),\n",
       "  ('miles', 3869),\n",
       "  ('get', 3721),\n",
       "  ('#ukrunchat', 3708),\n",
       "  ('.', 3651),\n",
       "  ('day', 3475),\n",
       "  ('2022', 3158),\n",
       "  ('new', 2961),\n",
       "  ('year', 2928),\n",
       "  ('Running', 2900),\n",
       "  ('morning', 2856),\n",
       "  ('Run', 2825),\n",
       "  ('#workout', 2774)]}"
      ]
     },
     "execution_count": 5,
     "metadata": {},
     "output_type": "execute_result"
    }
   ],
   "source": [
    "all_tweets = db.full_text.dropna()\n",
    "print(f'Database: {\"{:,}\".format(len(db.tweet_id))} tweets')\n",
    "print(f'Descriptive stats are:')\n",
    "get_patterns(all_tweets)"
   ]
  },
  {
   "cell_type": "markdown",
   "id": "ad05fd21",
   "metadata": {
    "slideshow": {
     "slide_type": "slide"
    }
   },
   "source": [
    "### Topic Modeling\n",
    "\n",
    "Now we want to dig in deeper and see if we can find groups of tweets that cluster together by distinct theme. \n",
    "\n",
    "We'll accomplish this using LDA (latent dirichlet analysis) modeling. LDA is an unsupervised classification algorithm."
   ]
  },
  {
   "cell_type": "code",
   "execution_count": 6,
   "id": "c66d29ef",
   "metadata": {
    "slideshow": {
     "slide_type": "skip"
    }
   },
   "outputs": [
    {
     "name": "stderr",
     "output_type": "stream",
     "text": [
      "/opt/anaconda3/lib/python3.8/site-packages/ipykernel/ipkernel.py:287: DeprecationWarning: `should_run_async` will not call `transform_cell` automatically in the future. Please pass the result to `transformed_cell` argument and any exception that happen during thetransform in `preprocessing_exc_tuple` in IPython 7.17 and above.\n",
      "  and should_run_async(code)\n"
     ]
    }
   ],
   "source": [
    "for_modeling_unclean = db.full_text.dropna()\n",
    "for_modeling = []\n",
    "\n",
    "for tweet in for_modeling_unclean :\n",
    "    words = [w for w in tweet.split()]# if w not in cop_sw]\n",
    "    words = \" \".join(words)    \n",
    "    for_modeling.append(words)"
   ]
  },
  {
   "cell_type": "code",
   "execution_count": 7,
   "id": "140f599f",
   "metadata": {
    "scrolled": true
   },
   "outputs": [
    {
     "name": "stderr",
     "output_type": "stream",
     "text": [
      "/opt/anaconda3/lib/python3.8/site-packages/ipykernel/ipkernel.py:287: DeprecationWarning: `should_run_async` will not call `transform_cell` automatically in the future. Please pass the result to `transformed_cell` argument and any exception that happen during thetransform in `preprocessing_exc_tuple` in IPython 7.17 and above.\n",
      "  and should_run_async(code)\n"
     ]
    },
    {
     "data": {
      "text/plain": [
       "73354"
      ]
     },
     "execution_count": 7,
     "metadata": {},
     "output_type": "execute_result"
    }
   ],
   "source": [
    "len(for_modeling)"
   ]
  },
  {
   "cell_type": "code",
   "execution_count": 8,
   "id": "bf089965",
   "metadata": {
    "slideshow": {
     "slide_type": "slide"
    }
   },
   "outputs": [
    {
     "name": "stderr",
     "output_type": "stream",
     "text": [
      "/opt/anaconda3/lib/python3.8/site-packages/ipykernel/ipkernel.py:287: DeprecationWarning: `should_run_async` will not call `transform_cell` automatically in the future. Please pass the result to `transformed_cell` argument and any exception that happen during thetransform in `preprocessing_exc_tuple` in IPython 7.17 and above.\n",
      "  and should_run_async(code)\n"
     ]
    }
   ],
   "source": [
    "# database is small enough right now (1/13/22) that taking a sample is not necessary\n",
    "# random.seed(1234)\n",
    "# for_modeling = random.sample(for_modeling, 50000)  "
   ]
  },
  {
   "cell_type": "code",
   "execution_count": 9,
   "id": "f7343e5a",
   "metadata": {
    "slideshow": {
     "slide_type": "skip"
    }
   },
   "outputs": [
    {
     "name": "stderr",
     "output_type": "stream",
     "text": [
      "/opt/anaconda3/lib/python3.8/site-packages/ipykernel/ipkernel.py:287: DeprecationWarning: `should_run_async` will not call `transform_cell` automatically in the future. Please pass the result to `transformed_cell` argument and any exception that happen during thetransform in `preprocessing_exc_tuple` in IPython 7.17 and above.\n",
      "  and should_run_async(code)\n"
     ]
    }
   ],
   "source": [
    "# Updates spaCy's default stop words list with my additional words. \n",
    "# stop_list = ['`',\"Mr.\",\"Mrs.\",\"Ms.\"]\n",
    "# nlp.Defaults.stop_words.update(stop_list)\n",
    "\n",
    "# Iterates over the words in the stop words list and resets the \"is_stop\" flag.\n",
    "for word in STOP_WORDS:\n",
    "    lexeme = nlp.vocab[word]\n",
    "    lexeme.is_stop = True"
   ]
  },
  {
   "cell_type": "code",
   "execution_count": 10,
   "id": "689a304f",
   "metadata": {
    "slideshow": {
     "slide_type": "skip"
    }
   },
   "outputs": [
    {
     "name": "stderr",
     "output_type": "stream",
     "text": [
      "/opt/anaconda3/lib/python3.8/site-packages/ipykernel/ipkernel.py:287: DeprecationWarning: `should_run_async` will not call `transform_cell` automatically in the future. Please pass the result to `transformed_cell` argument and any exception that happen during thetransform in `preprocessing_exc_tuple` in IPython 7.17 and above.\n",
      "  and should_run_async(code)\n"
     ]
    },
    {
     "name": "stdout",
     "output_type": "stream",
     "text": [
      "Total time taken to run is 30.816666666666666 minutes.\n"
     ]
    }
   ],
   "source": [
    "program_start = time.time()\n",
    "\n",
    "doc_list = []\n",
    "allowed_postags=['NOUN','ADJ','VERB','ADV']\n",
    "\n",
    "# Iterates through each article in the corpus.\n",
    "for doc in for_modeling :\n",
    "    # Passes that article through the pipeline and adds to a new list.\n",
    "    pr = nlp(doc)\n",
    "    doc_list.append([token.lemma_ for token in pr if token.pos_ in allowed_postags])\n",
    "    \n",
    "program_end = time.time()\n",
    "print('Total time taken to run is {} minutes.'.format(round(program_end - program_start)/60, 2))"
   ]
  },
  {
   "cell_type": "code",
   "execution_count": 11,
   "id": "02489329",
   "metadata": {
    "slideshow": {
     "slide_type": "skip"
    }
   },
   "outputs": [
    {
     "name": "stderr",
     "output_type": "stream",
     "text": [
      "/opt/anaconda3/lib/python3.8/site-packages/ipykernel/ipkernel.py:287: DeprecationWarning: `should_run_async` will not call `transform_cell` automatically in the future. Please pass the result to `transformed_cell` argument and any exception that happen during thetransform in `preprocessing_exc_tuple` in IPython 7.17 and above.\n",
      "  and should_run_async(code)\n"
     ]
    }
   ],
   "source": [
    "id2word = Dictionary(doc_list)  \n",
    "id2word.filter_extremes(no_below=10, no_above=0.4)  #getting rid of fewer than 10 instances. \n",
    "                                # And no more than words that appear in a certain fraction\n",
    "                                # of the total corpus size (in this case .4)\n",
    "id2word.compactify()  # assign new word ids to all words. \n",
    "corpus = [id2word.doc2bow(word) for word in doc_list]\n"
   ]
  },
  {
   "cell_type": "code",
   "execution_count": 12,
   "id": "861be399",
   "metadata": {
    "slideshow": {
     "slide_type": "skip"
    }
   },
   "outputs": [
    {
     "name": "stderr",
     "output_type": "stream",
     "text": [
      "/opt/anaconda3/lib/python3.8/site-packages/ipykernel/ipkernel.py:287: DeprecationWarning: `should_run_async` will not call `transform_cell` automatically in the future. Please pass the result to `transformed_cell` argument and any exception that happen during thetransform in `preprocessing_exc_tuple` in IPython 7.17 and above.\n",
      "  and should_run_async(code)\n"
     ]
    },
    {
     "name": "stdout",
     "output_type": "stream",
     "text": [
      "Total time taken to run is 13.166666666666666 minutes.\n"
     ]
    }
   ],
   "source": [
    "num_topics = 5\n",
    "\n",
    "program_start = time.time()\n",
    "\n",
    "lda_model = LdaMulticore(corpus=corpus, \n",
    "                             id2word=id2word, \n",
    "                             num_topics=num_topics, \n",
    "                             random_state=1,\n",
    "                             chunksize=30,\n",
    "                             passes=20,\n",
    "                             alpha=0.31,  # sets our priors\n",
    "                             eta=0.91,\n",
    "                             eval_every=1,\n",
    "                             per_word_topics=True,\n",
    "                             workers=1)\n",
    "\n",
    "program_end = time.time()\n",
    "print('Total time taken to run is {} minutes.'.format(round(program_end - program_start)/60, 2))"
   ]
  },
  {
   "cell_type": "markdown",
   "id": "1d351c13",
   "metadata": {
    "slideshow": {
     "slide_type": "slide"
    }
   },
   "source": [
    "### LDA Modeling\n",
    "\n",
    "Through trial and error, I found that asking the LDA model for 10 groups gave me the most valuable breakdown of groups overall, even though a few of the groups themselves aren't that useful. For instance, when restricting the group size down to seven or eight, the Education-focused group gets folded into one of the other groups while another group of fairly random event-focused verbs appears. By expanding the group size to 10 I get more useful distinctions and can get ignore the less-useful groups when I go to interpret the group sentiment. "
   ]
  },
  {
   "cell_type": "code",
   "execution_count": 13,
   "id": "1c3c20fc",
   "metadata": {
    "slideshow": {
     "slide_type": "slide"
    }
   },
   "outputs": [
    {
     "name": "stdout",
     "output_type": "stream",
     "text": [
      "[(0,\n",
      "  '0.023*\"day\" + 0.023*\"today\" + 0.021*\"mile\" + 0.017*\"go\" + 0.016*\"do\" + '\n",
      "  '0.016*\"morning\" + 0.014*\"get\" + 0.014*\"so\" + 0.013*\"time\" + 0.011*\"good\"'),\n",
      " (1,\n",
      "  '0.028*\"trail\" + 0.026*\"trailrunne\" + 0.023*\"shoe\" + 0.015*\"nature\" + '\n",
      "  '0.013*\"beautiful\" + 0.012*\"new\" + 0.010*\"hike\" + 0.008*\"photo\" + '\n",
      "  '0.008*\"check\" + 0.008*\"love\"'),\n",
      " (2,\n",
      "  '0.017*\"marathon\" + 0.013*\"runner\" + 0.013*\"more\" + 0.012*\"race\" + '\n",
      "  '0.009*\"running\" + 0.009*\"here\" + 0.008*\"life\" + 0.008*\"year\" + 0.008*\"get\" '\n",
      "  '+ 0.008*\"have\"'),\n",
      " (3,\n",
      "  '0.056*\"fitness\" + 0.029*\"workout\" + 0.021*\"exercise\" + 0.016*\"training\" + '\n",
      "  '0.016*\"health\" + 0.014*\"gym\" + 0.014*\"sport\" + 0.011*\"cycle\" + '\n",
      "  '0.010*\"fitnessmotivation\" + 0.010*\"free\"'),\n",
      " (4,\n",
      "  '0.049*\"️\" + 0.037*\"running\" + 0.028*\"capetownrunne\" + 0.027*\"session\" + '\n",
      "  '0.023*\"bootcamp\" + 0.022*\"♂\" + 0.021*\"day\" + 0.021*\"capetownretreat\" + '\n",
      "  '0.021*\"begin\" + 0.020*\"capetownt\"')]\n"
     ]
    },
    {
     "name": "stderr",
     "output_type": "stream",
     "text": [
      "/opt/anaconda3/lib/python3.8/site-packages/ipykernel/ipkernel.py:287: DeprecationWarning: `should_run_async` will not call `transform_cell` automatically in the future. Please pass the result to `transformed_cell` argument and any exception that happen during thetransform in `preprocessing_exc_tuple` in IPython 7.17 and above.\n",
      "  and should_run_async(code)\n"
     ]
    }
   ],
   "source": [
    "pprint(lda_model.print_topics(num_words=10))"
   ]
  },
  {
   "cell_type": "code",
   "execution_count": 56,
   "id": "deb6ae7f",
   "metadata": {
    "slideshow": {
     "slide_type": "skip"
    }
   },
   "outputs": [
    {
     "name": "stderr",
     "output_type": "stream",
     "text": [
      "/opt/anaconda3/lib/python3.8/site-packages/ipykernel/ipkernel.py:287: DeprecationWarning: `should_run_async` will not call `transform_cell` automatically in the future. Please pass the result to `transformed_cell` argument and any exception that happen during thetransform in `preprocessing_exc_tuple` in IPython 7.17 and above.\n",
      "  and should_run_async(code)\n"
     ]
    }
   ],
   "source": [
    "pyLDAvis.enable_notebook()"
   ]
  },
  {
   "cell_type": "code",
   "execution_count": 57,
   "id": "dfb15a96",
   "metadata": {
    "slideshow": {
     "slide_type": "slide"
    }
   },
   "outputs": [
    {
     "name": "stderr",
     "output_type": "stream",
     "text": [
      "/opt/anaconda3/lib/python3.8/site-packages/ipykernel/ipkernel.py:287: DeprecationWarning: `should_run_async` will not call `transform_cell` automatically in the future. Please pass the result to `transformed_cell` argument and any exception that happen during thetransform in `preprocessing_exc_tuple` in IPython 7.17 and above.\n",
      "  and should_run_async(code)\n"
     ]
    }
   ],
   "source": [
    "#pyLDAvis.gensim.prepare(lda_model, corpus, words)\n",
    "#pyLDAvis.gensim_models.prepare(lda_model, corpus,id2word)"
   ]
  },
  {
   "cell_type": "code",
   "execution_count": 14,
   "id": "d64336da",
   "metadata": {
    "slideshow": {
     "slide_type": "skip"
    }
   },
   "outputs": [
    {
     "name": "stderr",
     "output_type": "stream",
     "text": [
      "/opt/anaconda3/lib/python3.8/site-packages/ipykernel/ipkernel.py:287: DeprecationWarning: `should_run_async` will not call `transform_cell` automatically in the future. Please pass the result to `transformed_cell` argument and any exception that happen during thetransform in `preprocessing_exc_tuple` in IPython 7.17 and above.\n",
      "  and should_run_async(code)\n"
     ]
    }
   ],
   "source": [
    "# create temp lists to pass into dataframe\n",
    "tweetlist = []\n",
    "categorylist = []\n",
    "probabilitylist = []\n",
    "topic_assignments = []\n",
    "\n",
    "\n",
    "# Calculate topic probabilities for each tweet & assign tweets to categories\n",
    "for tweet in for_modeling :\n",
    "    doc = [w for w in tweet.split()]\n",
    "    pr = nlp(\" \".join(doc))\n",
    "    doc = [token.lemma_ for token in pr if token.pos_ in allowed_postags]\n",
    "    doc_new = id2word.doc2bow(doc)\n",
    "\n",
    "    topic_probs = lda_model[doc_new][0]\n",
    "    topic = max(topic_probs,key=lambda x: x[1])\n",
    "    topic_assignments.append(topic[0])    \n",
    "    prob = max(topic_probs)\n",
    "    cat = topic[0]\n",
    "    prob = topic[1]\n",
    "    tweetlist.append(tweet)\n",
    "    categorylist.append(cat)\n",
    "    probabilitylist.append(prob)\n",
    "\n",
    "tweets_df = pd.DataFrame()\n",
    "tweets_df[\"Tweet\"] = tweetlist\n",
    "tweets_df[\"Category\"] = categorylist\n",
    "tweets_df[\"Probability\"] = probabilitylist"
   ]
  },
  {
   "cell_type": "code",
   "execution_count": 15,
   "id": "f8729482",
   "metadata": {
    "slideshow": {
     "slide_type": "skip"
    }
   },
   "outputs": [
    {
     "name": "stderr",
     "output_type": "stream",
     "text": [
      "/opt/anaconda3/lib/python3.8/site-packages/ipykernel/ipkernel.py:287: DeprecationWarning: `should_run_async` will not call `transform_cell` automatically in the future. Please pass the result to `transformed_cell` argument and any exception that happen during thetransform in `preprocessing_exc_tuple` in IPython 7.17 and above.\n",
      "  and should_run_async(code)\n"
     ]
    },
    {
     "data": {
      "text/html": [
       "<div>\n",
       "<style scoped>\n",
       "    .dataframe tbody tr th:only-of-type {\n",
       "        vertical-align: middle;\n",
       "    }\n",
       "\n",
       "    .dataframe tbody tr th {\n",
       "        vertical-align: top;\n",
       "    }\n",
       "\n",
       "    .dataframe thead th {\n",
       "        text-align: right;\n",
       "    }\n",
       "</style>\n",
       "<table border=\"1\" class=\"dataframe\">\n",
       "  <thead>\n",
       "    <tr style=\"text-align: right;\">\n",
       "      <th></th>\n",
       "      <th>Tweet</th>\n",
       "      <th>Category</th>\n",
       "      <th>Probability</th>\n",
       "    </tr>\n",
       "  </thead>\n",
       "  <tbody>\n",
       "    <tr>\n",
       "      <th>0</th>\n",
       "      <td>Happy New Year! #run https://t.co/MzfmqWLfSm</td>\n",
       "      <td>0</td>\n",
       "      <td>0.200000</td>\n",
       "    </tr>\n",
       "    <tr>\n",
       "      <th>1</th>\n",
       "      <td>Hard packed snow trail run = good workout! Fre...</td>\n",
       "      <td>1</td>\n",
       "      <td>0.465835</td>\n",
       "    </tr>\n",
       "    <tr>\n",
       "      <th>2</th>\n",
       "      <td>🚨 #AfterChristmasSale 🚨 ✨Last Day!✨ 40%OFF #pi...</td>\n",
       "      <td>1</td>\n",
       "      <td>0.699859</td>\n",
       "    </tr>\n",
       "    <tr>\n",
       "      <th>3</th>\n",
       "      <td>It is so beautiful today in #sanfrancisco so I...</td>\n",
       "      <td>0</td>\n",
       "      <td>0.753919</td>\n",
       "    </tr>\n",
       "    <tr>\n",
       "      <th>4</th>\n",
       "      <td>Breathing correctly when you #run is important...</td>\n",
       "      <td>2</td>\n",
       "      <td>0.600812</td>\n",
       "    </tr>\n",
       "    <tr>\n",
       "      <th>...</th>\n",
       "      <td>...</td>\n",
       "      <td>...</td>\n",
       "      <td>...</td>\n",
       "    </tr>\n",
       "    <tr>\n",
       "      <th>73349</th>\n",
       "      <td>5K am #run in PDX and another pm 5K with a vie...</td>\n",
       "      <td>0</td>\n",
       "      <td>0.729507</td>\n",
       "    </tr>\n",
       "    <tr>\n",
       "      <th>73350</th>\n",
       "      <td>Out for a little run. Whitehorse Yukon 🪶🪶🪶🪶 #B...</td>\n",
       "      <td>0</td>\n",
       "      <td>0.644757</td>\n",
       "    </tr>\n",
       "    <tr>\n",
       "      <th>73351</th>\n",
       "      <td>(RRW) Athletics: Race Results Weekly Among 202...</td>\n",
       "      <td>3</td>\n",
       "      <td>0.640317</td>\n",
       "    </tr>\n",
       "    <tr>\n",
       "      <th>73352</th>\n",
       "      <td>1.61 @CharityMiles 4 @nothingbutnets. Thx @Asp...</td>\n",
       "      <td>3</td>\n",
       "      <td>0.898965</td>\n",
       "    </tr>\n",
       "    <tr>\n",
       "      <th>73353</th>\n",
       "      <td>Dehydration can significantly decrease our per...</td>\n",
       "      <td>3</td>\n",
       "      <td>0.703651</td>\n",
       "    </tr>\n",
       "  </tbody>\n",
       "</table>\n",
       "<p>73354 rows × 3 columns</p>\n",
       "</div>"
      ],
      "text/plain": [
       "                                                   Tweet  Category  \\\n",
       "0           Happy New Year! #run https://t.co/MzfmqWLfSm         0   \n",
       "1      Hard packed snow trail run = good workout! Fre...         1   \n",
       "2      🚨 #AfterChristmasSale 🚨 ✨Last Day!✨ 40%OFF #pi...         1   \n",
       "3      It is so beautiful today in #sanfrancisco so I...         0   \n",
       "4      Breathing correctly when you #run is important...         2   \n",
       "...                                                  ...       ...   \n",
       "73349  5K am #run in PDX and another pm 5K with a vie...         0   \n",
       "73350  Out for a little run. Whitehorse Yukon 🪶🪶🪶🪶 #B...         0   \n",
       "73351  (RRW) Athletics: Race Results Weekly Among 202...         3   \n",
       "73352  1.61 @CharityMiles 4 @nothingbutnets. Thx @Asp...         3   \n",
       "73353  Dehydration can significantly decrease our per...         3   \n",
       "\n",
       "       Probability  \n",
       "0         0.200000  \n",
       "1         0.465835  \n",
       "2         0.699859  \n",
       "3         0.753919  \n",
       "4         0.600812  \n",
       "...            ...  \n",
       "73349     0.729507  \n",
       "73350     0.644757  \n",
       "73351     0.640317  \n",
       "73352     0.898965  \n",
       "73353     0.703651  \n",
       "\n",
       "[73354 rows x 3 columns]"
      ]
     },
     "execution_count": 15,
     "metadata": {},
     "output_type": "execute_result"
    }
   ],
   "source": [
    "tweets_df"
   ]
  },
  {
   "cell_type": "code",
   "execution_count": 16,
   "id": "b4842e9c",
   "metadata": {
    "scrolled": false,
    "slideshow": {
     "slide_type": "skip"
    }
   },
   "outputs": [
    {
     "name": "stderr",
     "output_type": "stream",
     "text": [
      "/opt/anaconda3/lib/python3.8/site-packages/ipykernel/ipkernel.py:287: DeprecationWarning: `should_run_async` will not call `transform_cell` automatically in the future. Please pass the result to `transformed_cell` argument and any exception that happen during thetransform in `preprocessing_exc_tuple` in IPython 7.17 and above.\n",
      "  and should_run_async(code)\n"
     ]
    }
   ],
   "source": [
    "newdf = tweets_df.merge(db, left_on='Tweet', right_on='full_text', how='inner')\n",
    "newdf = newdf.drop_duplicates(subset=['tweet_id'], keep='first')\n",
    "newdf[\"date_created\"] = pd.to_datetime(newdf[\"date_created\"], format=\"%Y-%m-%d\") \n",
    "newdf['days'] = newdf['date_created'].dt.date"
   ]
  },
  {
   "cell_type": "code",
   "execution_count": 17,
   "id": "8d51a6cc",
   "metadata": {
    "slideshow": {
     "slide_type": "skip"
    }
   },
   "outputs": [
    {
     "name": "stderr",
     "output_type": "stream",
     "text": [
      "/opt/anaconda3/lib/python3.8/site-packages/ipykernel/ipkernel.py:287: DeprecationWarning: `should_run_async` will not call `transform_cell` automatically in the future. Please pass the result to `transformed_cell` argument and any exception that happen during thetransform in `preprocessing_exc_tuple` in IPython 7.17 and above.\n",
      "  and should_run_async(code)\n"
     ]
    }
   ],
   "source": [
    "# # rename columns from numbers to actual names for final display\n",
    "\n",
    "# newdf['Category'] = newdf['Category'].replace([0, 1, 2, 3, 4, 5, 6, 7, 8, 9],\n",
    "#                                                             ['Random','Activism','Event-focused random','Collaboration',\n",
    "#                                                              'Fossil Fuels', 'Education','CTAs & tracking',\n",
    "#                                                              'End Bad Policy','Aspirational Policy','National FF Policy'])\n",
    "                                                             \n"
   ]
  },
  {
   "cell_type": "code",
   "execution_count": 18,
   "id": "8fb734c2",
   "metadata": {
    "slideshow": {
     "slide_type": "skip"
    }
   },
   "outputs": [
    {
     "name": "stderr",
     "output_type": "stream",
     "text": [
      "/opt/anaconda3/lib/python3.8/site-packages/ipykernel/ipkernel.py:287: DeprecationWarning: `should_run_async` will not call `transform_cell` automatically in the future. Please pass the result to `transformed_cell` argument and any exception that happen during thetransform in `preprocessing_exc_tuple` in IPython 7.17 and above.\n",
      "  and should_run_async(code)\n"
     ]
    }
   ],
   "source": [
    "newdf_groupby_category = newdf.groupby('Category')"
   ]
  },
  {
   "cell_type": "markdown",
   "id": "ed158d79",
   "metadata": {},
   "source": [
    "### Why are we getting so few tweets in the categories if every tweet is being categorized into a category? Across the eight categories we should see the same total as number of tweets in the database?"
   ]
  },
  {
   "cell_type": "code",
   "execution_count": 19,
   "id": "056855a3",
   "metadata": {
    "cell_style": "center",
    "slideshow": {
     "slide_type": "slide"
    }
   },
   "outputs": [
    {
     "name": "stdout",
     "output_type": "stream",
     "text": [
      "Number of tweets per category\n",
      "Category\n",
      "0    2765\n",
      "1     804\n",
      "2    1058\n",
      "3     465\n",
      "4     351\n",
      "dtype: int64\n"
     ]
    },
    {
     "name": "stderr",
     "output_type": "stream",
     "text": [
      "/opt/anaconda3/lib/python3.8/site-packages/ipykernel/ipkernel.py:287: DeprecationWarning: `should_run_async` will not call `transform_cell` automatically in the future. Please pass the result to `transformed_cell` argument and any exception that happen during thetransform in `preprocessing_exc_tuple` in IPython 7.17 and above.\n",
      "  and should_run_async(code)\n"
     ]
    }
   ],
   "source": [
    "print(f\"Number of tweets per category\")\n",
    "print(newdf_groupby_category.size())"
   ]
  },
  {
   "cell_type": "markdown",
   "id": "03101b36",
   "metadata": {},
   "source": [
    "### Topic modeling the Environmental group"
   ]
  },
  {
   "cell_type": "code",
   "execution_count": 20,
   "id": "5e9e7f64",
   "metadata": {
    "slideshow": {
     "slide_type": "skip"
    }
   },
   "outputs": [
    {
     "name": "stderr",
     "output_type": "stream",
     "text": [
      "/opt/anaconda3/lib/python3.8/site-packages/ipykernel/ipkernel.py:287: DeprecationWarning: `should_run_async` will not call `transform_cell` automatically in the future. Please pass the result to `transformed_cell` argument and any exception that happen during thetransform in `preprocessing_exc_tuple` in IPython 7.17 and above.\n",
      "  and should_run_async(code)\n"
     ]
    }
   ],
   "source": [
    "newdf_env = newdf[newdf['Category']==1]"
   ]
  },
  {
   "cell_type": "code",
   "execution_count": 22,
   "id": "c99ca0ba",
   "metadata": {},
   "outputs": [
    {
     "name": "stdout",
     "output_type": "stream",
     "text": [
      "447\n"
     ]
    },
    {
     "name": "stderr",
     "output_type": "stream",
     "text": [
      "/opt/anaconda3/lib/python3.8/site-packages/ipykernel/ipkernel.py:287: DeprecationWarning: `should_run_async` will not call `transform_cell` automatically in the future. Please pass the result to `transformed_cell` argument and any exception that happen during thetransform in `preprocessing_exc_tuple` in IPython 7.17 and above.\n",
      "  and should_run_async(code)\n"
     ]
    }
   ],
   "source": [
    "newdf_env_unique = newdf_env.drop_duplicates(subset = [\"user_id\"])\n",
    "print(len(newdf_env_unique))"
   ]
  },
  {
   "cell_type": "code",
   "execution_count": 23,
   "id": "8638231d",
   "metadata": {},
   "outputs": [
    {
     "name": "stderr",
     "output_type": "stream",
     "text": [
      "/opt/anaconda3/lib/python3.8/site-packages/ipykernel/ipkernel.py:287: DeprecationWarning: `should_run_async` will not call `transform_cell` automatically in the future. Please pass the result to `transformed_cell` argument and any exception that happen during thetransform in `preprocessing_exc_tuple` in IPython 7.17 and above.\n",
      "  and should_run_async(code)\n"
     ]
    }
   ],
   "source": [
    "for_modeling_unclean = newdf_env_unique.full_text.dropna()\n",
    "for_modeling = []\n",
    "\n",
    "for tweet in for_modeling_unclean :\n",
    "    words = [w for w in tweet.split()]# if w not in cop_sw]\n",
    "    words = \" \".join(words)    \n",
    "    for_modeling.append(words)"
   ]
  },
  {
   "cell_type": "code",
   "execution_count": 24,
   "id": "35183347",
   "metadata": {},
   "outputs": [
    {
     "name": "stderr",
     "output_type": "stream",
     "text": [
      "/opt/anaconda3/lib/python3.8/site-packages/ipykernel/ipkernel.py:287: DeprecationWarning: `should_run_async` will not call `transform_cell` automatically in the future. Please pass the result to `transformed_cell` argument and any exception that happen during thetransform in `preprocessing_exc_tuple` in IPython 7.17 and above.\n",
      "  and should_run_async(code)\n"
     ]
    },
    {
     "name": "stdout",
     "output_type": "stream",
     "text": [
      "Total time taken to run is 0.2833333333333333 minutes.\n"
     ]
    }
   ],
   "source": [
    "program_start = time.time()\n",
    "\n",
    "doc_list = []\n",
    "allowed_postags=['NOUN','ADJ','VERB','ADV']\n",
    "\n",
    "# Iterates through each article in the corpus.\n",
    "for doc in for_modeling :\n",
    "    # Passes that article through the pipeline and adds to a new list.\n",
    "    pr = nlp(doc)\n",
    "    doc_list.append([token.lemma_ for token in pr if token.pos_ in allowed_postags])\n",
    "    \n",
    "program_end = time.time()\n",
    "print('Total time taken to run is {} minutes.'.format(round(program_end - program_start)/60, 2))"
   ]
  },
  {
   "cell_type": "code",
   "execution_count": 25,
   "id": "af9d8428",
   "metadata": {},
   "outputs": [
    {
     "name": "stderr",
     "output_type": "stream",
     "text": [
      "/opt/anaconda3/lib/python3.8/site-packages/ipykernel/ipkernel.py:287: DeprecationWarning: `should_run_async` will not call `transform_cell` automatically in the future. Please pass the result to `transformed_cell` argument and any exception that happen during thetransform in `preprocessing_exc_tuple` in IPython 7.17 and above.\n",
      "  and should_run_async(code)\n"
     ]
    }
   ],
   "source": [
    "id2word = Dictionary(doc_list)  \n",
    "id2word.filter_extremes(no_below=10, no_above=0.4)  #getting rid of fewer than 10 instances. \n",
    "                                # And no more than words that appear in a certain fraction\n",
    "                                # of the total corpus size (in this case .4)\n",
    "id2word.compactify()  # assign new word ids to all words. \n",
    "corpus = [id2word.doc2bow(word) for word in doc_list]\n"
   ]
  },
  {
   "cell_type": "code",
   "execution_count": 26,
   "id": "b5c3dc3d",
   "metadata": {},
   "outputs": [
    {
     "name": "stderr",
     "output_type": "stream",
     "text": [
      "/opt/anaconda3/lib/python3.8/site-packages/ipykernel/ipkernel.py:287: DeprecationWarning: `should_run_async` will not call `transform_cell` automatically in the future. Please pass the result to `transformed_cell` argument and any exception that happen during thetransform in `preprocessing_exc_tuple` in IPython 7.17 and above.\n",
      "  and should_run_async(code)\n"
     ]
    },
    {
     "name": "stdout",
     "output_type": "stream",
     "text": [
      "Total time taken to run is 0.3333333333333333 minutes.\n"
     ]
    }
   ],
   "source": [
    "num_topics = 3\n",
    "\n",
    "program_start = time.time()\n",
    "\n",
    "lda_model = LdaMulticore(corpus=corpus, \n",
    "                             id2word=id2word, \n",
    "                             num_topics=num_topics, \n",
    "                             random_state=1,\n",
    "                             chunksize=30,\n",
    "                             passes=40,\n",
    "                             alpha=0.31,  # sets our priors\n",
    "                             eta=0.91,\n",
    "                             eval_every=1,\n",
    "                             per_word_topics=True,\n",
    "                             workers=1)\n",
    "\n",
    "program_end = time.time()\n",
    "print('Total time taken to run is {} minutes.'.format(round(program_end - program_start)/60, 2))"
   ]
  },
  {
   "cell_type": "code",
   "execution_count": 27,
   "id": "3436d647",
   "metadata": {},
   "outputs": [
    {
     "name": "stdout",
     "output_type": "stream",
     "text": [
      "[(0,\n",
      "  '0.099*\"trailrunne\" + 0.065*\"trail\" + 0.047*\"morning\" + 0.046*\"mile\" + '\n",
      "  '0.044*\"beautiful\" + 0.039*\"new\" + 0.035*\"winter\" + 0.034*\"day\" + '\n",
      "  '0.033*\"snow\" + 0.032*\"trailrunning\"'),\n",
      " (1,\n",
      "  '0.107*\"shoe\" + 0.055*\"running\" + 0.037*\"wealth\" + 0.034*\"sale\" + '\n",
      "  '0.033*\"shopping\" + 0.032*\"style\" + 0.031*\"fashion\" + 0.031*\"brand\" + '\n",
      "  '0.031*\"nike\" + 0.030*\"find\"'),\n",
      " (2,\n",
      "  '0.116*\"trail\" + 0.092*\"nature\" + 0.077*\"hike\" + 0.075*\"walk\" + '\n",
      "  '0.036*\"shirt\" + 0.033*\"outdoors\" + 0.033*\"hiking\" + 0.032*\"dog\" + '\n",
      "  '0.032*\"travel\" + 0.029*\"adventure\"')]\n"
     ]
    },
    {
     "name": "stderr",
     "output_type": "stream",
     "text": [
      "/opt/anaconda3/lib/python3.8/site-packages/ipykernel/ipkernel.py:287: DeprecationWarning: `should_run_async` will not call `transform_cell` automatically in the future. Please pass the result to `transformed_cell` argument and any exception that happen during thetransform in `preprocessing_exc_tuple` in IPython 7.17 and above.\n",
      "  and should_run_async(code)\n"
     ]
    }
   ],
   "source": [
    "pprint(lda_model.print_topics(num_words=10))"
   ]
  },
  {
   "cell_type": "code",
   "execution_count": 35,
   "id": "e4c2e1c0",
   "metadata": {},
   "outputs": [
    {
     "name": "stderr",
     "output_type": "stream",
     "text": [
      "/opt/anaconda3/lib/python3.8/site-packages/ipykernel/ipkernel.py:287: DeprecationWarning: `should_run_async` will not call `transform_cell` automatically in the future. Please pass the result to `transformed_cell` argument and any exception that happen during thetransform in `preprocessing_exc_tuple` in IPython 7.17 and above.\n",
      "  and should_run_async(code)\n"
     ]
    }
   ],
   "source": [
    "# create temp lists to pass into dataframe\n",
    "tweetlist = []\n",
    "categorylist = []\n",
    "probabilitylist = []\n",
    "topic_assignments = []\n",
    "\n",
    "\n",
    "# Calculate topic probabilities for each tweet & assign tweets to categories\n",
    "for tweet in for_modeling :\n",
    "    doc = [w for w in tweet.split()]\n",
    "    pr = nlp(\" \".join(doc))\n",
    "    doc = [token.lemma_ for token in pr if token.pos_ in allowed_postags]\n",
    "    doc_new = id2word.doc2bow(doc)\n",
    "\n",
    "    topic_probs = lda_model[doc_new][0]\n",
    "    topic = max(topic_probs,key=lambda x: x[1])\n",
    "    topic_assignments.append(topic[0])    \n",
    "    prob = max(topic_probs)\n",
    "    cat = topic[0]\n",
    "    prob = topic[1]\n",
    "    tweetlist.append(tweet)\n",
    "    categorylist.append(cat)\n",
    "    probabilitylist.append(prob)\n",
    "\n",
    "newdf_env_temp = pd.DataFrame()\n",
    "newdf_env_temp[\"Tweet\"] = tweetlist\n",
    "newdf_env_temp[\"Category\"] = categorylist\n",
    "newdf_env_temp[\"Probability\"] = probabilitylist"
   ]
  },
  {
   "cell_type": "code",
   "execution_count": 38,
   "id": "04799c5f",
   "metadata": {},
   "outputs": [
    {
     "name": "stderr",
     "output_type": "stream",
     "text": [
      "/opt/anaconda3/lib/python3.8/site-packages/ipykernel/ipkernel.py:287: DeprecationWarning: `should_run_async` will not call `transform_cell` automatically in the future. Please pass the result to `transformed_cell` argument and any exception that happen during thetransform in `preprocessing_exc_tuple` in IPython 7.17 and above.\n",
      "  and should_run_async(code)\n"
     ]
    },
    {
     "data": {
      "text/html": [
       "<div>\n",
       "<style scoped>\n",
       "    .dataframe tbody tr th:only-of-type {\n",
       "        vertical-align: middle;\n",
       "    }\n",
       "\n",
       "    .dataframe tbody tr th {\n",
       "        vertical-align: top;\n",
       "    }\n",
       "\n",
       "    .dataframe thead th {\n",
       "        text-align: right;\n",
       "    }\n",
       "</style>\n",
       "<table border=\"1\" class=\"dataframe\">\n",
       "  <thead>\n",
       "    <tr style=\"text-align: right;\">\n",
       "      <th></th>\n",
       "      <th>Tweet</th>\n",
       "      <th>Category</th>\n",
       "      <th>Probability</th>\n",
       "    </tr>\n",
       "  </thead>\n",
       "  <tbody>\n",
       "    <tr>\n",
       "      <th>0</th>\n",
       "      <td>Happy New Year! #run https://t.co/MzfmqWLfSm</td>\n",
       "      <td>0</td>\n",
       "      <td>0.200000</td>\n",
       "    </tr>\n",
       "    <tr>\n",
       "      <th>1</th>\n",
       "      <td>Hard packed snow trail run = good workout! Fre...</td>\n",
       "      <td>1</td>\n",
       "      <td>0.465835</td>\n",
       "    </tr>\n",
       "    <tr>\n",
       "      <th>2</th>\n",
       "      <td>🚨 #AfterChristmasSale 🚨 ✨Last Day!✨ 40%OFF #pi...</td>\n",
       "      <td>1</td>\n",
       "      <td>0.699859</td>\n",
       "    </tr>\n",
       "    <tr>\n",
       "      <th>3</th>\n",
       "      <td>It is so beautiful today in #sanfrancisco so I...</td>\n",
       "      <td>0</td>\n",
       "      <td>0.753919</td>\n",
       "    </tr>\n",
       "    <tr>\n",
       "      <th>4</th>\n",
       "      <td>Breathing correctly when you #run is important...</td>\n",
       "      <td>2</td>\n",
       "      <td>0.600812</td>\n",
       "    </tr>\n",
       "    <tr>\n",
       "      <th>...</th>\n",
       "      <td>...</td>\n",
       "      <td>...</td>\n",
       "      <td>...</td>\n",
       "    </tr>\n",
       "    <tr>\n",
       "      <th>73349</th>\n",
       "      <td>5K am #run in PDX and another pm 5K with a vie...</td>\n",
       "      <td>0</td>\n",
       "      <td>0.729507</td>\n",
       "    </tr>\n",
       "    <tr>\n",
       "      <th>73350</th>\n",
       "      <td>Out for a little run. Whitehorse Yukon 🪶🪶🪶🪶 #B...</td>\n",
       "      <td>0</td>\n",
       "      <td>0.644757</td>\n",
       "    </tr>\n",
       "    <tr>\n",
       "      <th>73351</th>\n",
       "      <td>(RRW) Athletics: Race Results Weekly Among 202...</td>\n",
       "      <td>3</td>\n",
       "      <td>0.640317</td>\n",
       "    </tr>\n",
       "    <tr>\n",
       "      <th>73352</th>\n",
       "      <td>1.61 @CharityMiles 4 @nothingbutnets. Thx @Asp...</td>\n",
       "      <td>3</td>\n",
       "      <td>0.898965</td>\n",
       "    </tr>\n",
       "    <tr>\n",
       "      <th>73353</th>\n",
       "      <td>Dehydration can significantly decrease our per...</td>\n",
       "      <td>3</td>\n",
       "      <td>0.703651</td>\n",
       "    </tr>\n",
       "  </tbody>\n",
       "</table>\n",
       "<p>73354 rows × 3 columns</p>\n",
       "</div>"
      ],
      "text/plain": [
       "                                                   Tweet  Category  \\\n",
       "0           Happy New Year! #run https://t.co/MzfmqWLfSm         0   \n",
       "1      Hard packed snow trail run = good workout! Fre...         1   \n",
       "2      🚨 #AfterChristmasSale 🚨 ✨Last Day!✨ 40%OFF #pi...         1   \n",
       "3      It is so beautiful today in #sanfrancisco so I...         0   \n",
       "4      Breathing correctly when you #run is important...         2   \n",
       "...                                                  ...       ...   \n",
       "73349  5K am #run in PDX and another pm 5K with a vie...         0   \n",
       "73350  Out for a little run. Whitehorse Yukon 🪶🪶🪶🪶 #B...         0   \n",
       "73351  (RRW) Athletics: Race Results Weekly Among 202...         3   \n",
       "73352  1.61 @CharityMiles 4 @nothingbutnets. Thx @Asp...         3   \n",
       "73353  Dehydration can significantly decrease our per...         3   \n",
       "\n",
       "       Probability  \n",
       "0         0.200000  \n",
       "1         0.465835  \n",
       "2         0.699859  \n",
       "3         0.753919  \n",
       "4         0.600812  \n",
       "...            ...  \n",
       "73349     0.729507  \n",
       "73350     0.644757  \n",
       "73351     0.640317  \n",
       "73352     0.898965  \n",
       "73353     0.703651  \n",
       "\n",
       "[73354 rows x 3 columns]"
      ]
     },
     "execution_count": 38,
     "metadata": {},
     "output_type": "execute_result"
    }
   ],
   "source": [
    "tweets_df"
   ]
  },
  {
   "cell_type": "code",
   "execution_count": 37,
   "id": "dabac009",
   "metadata": {},
   "outputs": [
    {
     "name": "stderr",
     "output_type": "stream",
     "text": [
      "/opt/anaconda3/lib/python3.8/site-packages/ipykernel/ipkernel.py:287: DeprecationWarning: `should_run_async` will not call `transform_cell` automatically in the future. Please pass the result to `transformed_cell` argument and any exception that happen during thetransform in `preprocessing_exc_tuple` in IPython 7.17 and above.\n",
      "  and should_run_async(code)\n"
     ]
    },
    {
     "data": {
      "text/html": [
       "<div>\n",
       "<style scoped>\n",
       "    .dataframe tbody tr th:only-of-type {\n",
       "        vertical-align: middle;\n",
       "    }\n",
       "\n",
       "    .dataframe tbody tr th {\n",
       "        vertical-align: top;\n",
       "    }\n",
       "\n",
       "    .dataframe thead th {\n",
       "        text-align: right;\n",
       "    }\n",
       "</style>\n",
       "<table border=\"1\" class=\"dataframe\">\n",
       "  <thead>\n",
       "    <tr style=\"text-align: right;\">\n",
       "      <th></th>\n",
       "      <th>Tweet</th>\n",
       "      <th>Category</th>\n",
       "      <th>Probability</th>\n",
       "    </tr>\n",
       "  </thead>\n",
       "  <tbody>\n",
       "    <tr>\n",
       "      <th>0</th>\n",
       "      <td>On the treadmill 🏃🏻‍♀️🏃🏻‍♀️🏃🏻‍♀️, but still sa...</td>\n",
       "      <td>0</td>\n",
       "      <td>0.787505</td>\n",
       "    </tr>\n",
       "    <tr>\n",
       "      <th>1</th>\n",
       "      <td>Rail trail run to Quakertown @jaytee43 @alitvi...</td>\n",
       "      <td>0</td>\n",
       "      <td>0.535058</td>\n",
       "    </tr>\n",
       "    <tr>\n",
       "      <th>2</th>\n",
       "      <td>4 Tube Fitness Resistance Bands #running #shoe...</td>\n",
       "      <td>1</td>\n",
       "      <td>0.678286</td>\n",
       "    </tr>\n",
       "    <tr>\n",
       "      <th>3</th>\n",
       "      <td>Pretty warm in #Melbourne already, but got out...</td>\n",
       "      <td>0</td>\n",
       "      <td>0.595775</td>\n",
       "    </tr>\n",
       "    <tr>\n",
       "      <th>4</th>\n",
       "      <td>Yoga &amp;amp; meditation. Morning yoga with the g...</td>\n",
       "      <td>2</td>\n",
       "      <td>0.590609</td>\n",
       "    </tr>\n",
       "    <tr>\n",
       "      <th>...</th>\n",
       "      <td>...</td>\n",
       "      <td>...</td>\n",
       "      <td>...</td>\n",
       "    </tr>\n",
       "    <tr>\n",
       "      <th>799</th>\n",
       "      <td>#running #shoes Low Waist Push Up Leggings htt...</td>\n",
       "      <td>1</td>\n",
       "      <td>0.787324</td>\n",
       "    </tr>\n",
       "    <tr>\n",
       "      <th>800</th>\n",
       "      <td>Beautiful sunshine to heal those #running legs...</td>\n",
       "      <td>0</td>\n",
       "      <td>0.558365</td>\n",
       "    </tr>\n",
       "    <tr>\n",
       "      <th>801</th>\n",
       "      <td>Women's High Waist Pants #running #wealth http...</td>\n",
       "      <td>1</td>\n",
       "      <td>0.678019</td>\n",
       "    </tr>\n",
       "    <tr>\n",
       "      <th>802</th>\n",
       "      <td>#trail #trailwalk #iphonography #shotoniphone ...</td>\n",
       "      <td>2</td>\n",
       "      <td>0.784055</td>\n",
       "    </tr>\n",
       "    <tr>\n",
       "      <th>803</th>\n",
       "      <td>Unisex Waist &amp;amp; Hip Bag with Water Bottle #...</td>\n",
       "      <td>1</td>\n",
       "      <td>0.678286</td>\n",
       "    </tr>\n",
       "  </tbody>\n",
       "</table>\n",
       "<p>804 rows × 3 columns</p>\n",
       "</div>"
      ],
      "text/plain": [
       "                                                 Tweet  Category  Probability\n",
       "0    On the treadmill 🏃🏻‍♀️🏃🏻‍♀️🏃🏻‍♀️, but still sa...         0     0.787505\n",
       "1    Rail trail run to Quakertown @jaytee43 @alitvi...         0     0.535058\n",
       "2    4 Tube Fitness Resistance Bands #running #shoe...         1     0.678286\n",
       "3    Pretty warm in #Melbourne already, but got out...         0     0.595775\n",
       "4    Yoga &amp; meditation. Morning yoga with the g...         2     0.590609\n",
       "..                                                 ...       ...          ...\n",
       "799  #running #shoes Low Waist Push Up Leggings htt...         1     0.787324\n",
       "800  Beautiful sunshine to heal those #running legs...         0     0.558365\n",
       "801  Women's High Waist Pants #running #wealth http...         1     0.678019\n",
       "802  #trail #trailwalk #iphonography #shotoniphone ...         2     0.784055\n",
       "803  Unisex Waist &amp; Hip Bag with Water Bottle #...         1     0.678286\n",
       "\n",
       "[804 rows x 3 columns]"
      ]
     },
     "execution_count": 37,
     "metadata": {},
     "output_type": "execute_result"
    }
   ],
   "source": [
    "newdf_env_temp"
   ]
  },
  {
   "cell_type": "code",
   "execution_count": 39,
   "id": "54a9d1b1",
   "metadata": {},
   "outputs": [
    {
     "name": "stderr",
     "output_type": "stream",
     "text": [
      "/opt/anaconda3/lib/python3.8/site-packages/ipykernel/ipkernel.py:287: DeprecationWarning: `should_run_async` will not call `transform_cell` automatically in the future. Please pass the result to `transformed_cell` argument and any exception that happen during thetransform in `preprocessing_exc_tuple` in IPython 7.17 and above.\n",
      "  and should_run_async(code)\n"
     ]
    }
   ],
   "source": [
    "newdf_env_final = newdf_env_temp.merge(tweets_df, left_on='Tweet', right_on='Tweet', how='inner')"
   ]
  },
  {
   "cell_type": "code",
   "execution_count": 41,
   "id": "f24293f5",
   "metadata": {},
   "outputs": [
    {
     "name": "stderr",
     "output_type": "stream",
     "text": [
      "/opt/anaconda3/lib/python3.8/site-packages/ipykernel/ipkernel.py:287: DeprecationWarning: `should_run_async` will not call `transform_cell` automatically in the future. Please pass the result to `transformed_cell` argument and any exception that happen during thetransform in `preprocessing_exc_tuple` in IPython 7.17 and above.\n",
      "  and should_run_async(code)\n"
     ]
    },
    {
     "data": {
      "text/html": [
       "<div>\n",
       "<style scoped>\n",
       "    .dataframe tbody tr th:only-of-type {\n",
       "        vertical-align: middle;\n",
       "    }\n",
       "\n",
       "    .dataframe tbody tr th {\n",
       "        vertical-align: top;\n",
       "    }\n",
       "\n",
       "    .dataframe thead th {\n",
       "        text-align: right;\n",
       "    }\n",
       "</style>\n",
       "<table border=\"1\" class=\"dataframe\">\n",
       "  <thead>\n",
       "    <tr style=\"text-align: right;\">\n",
       "      <th></th>\n",
       "      <th>Tweet</th>\n",
       "      <th>Category_x</th>\n",
       "      <th>Probability_x</th>\n",
       "      <th>Category_y</th>\n",
       "      <th>Probability_y</th>\n",
       "    </tr>\n",
       "  </thead>\n",
       "  <tbody>\n",
       "    <tr>\n",
       "      <th>0</th>\n",
       "      <td>On the treadmill 🏃🏻‍♀️🏃🏻‍♀️🏃🏻‍♀️, but still sa...</td>\n",
       "      <td>0</td>\n",
       "      <td>0.787505</td>\n",
       "      <td>1</td>\n",
       "      <td>0.416757</td>\n",
       "    </tr>\n",
       "    <tr>\n",
       "      <th>1</th>\n",
       "      <td>On the treadmill 🏃🏻‍♀️🏃🏻‍♀️🏃🏻‍♀️, but still sa...</td>\n",
       "      <td>0</td>\n",
       "      <td>0.787505</td>\n",
       "      <td>1</td>\n",
       "      <td>0.416748</td>\n",
       "    </tr>\n",
       "    <tr>\n",
       "      <th>2</th>\n",
       "      <td>On the treadmill 🏃🏻‍♀️🏃🏻‍♀️🏃🏻‍♀️, but still sa...</td>\n",
       "      <td>0</td>\n",
       "      <td>0.787505</td>\n",
       "      <td>1</td>\n",
       "      <td>0.416759</td>\n",
       "    </tr>\n",
       "    <tr>\n",
       "      <th>3</th>\n",
       "      <td>On the treadmill 🏃🏻‍♀️🏃🏻‍♀️🏃🏻‍♀️, but still sa...</td>\n",
       "      <td>0</td>\n",
       "      <td>0.787505</td>\n",
       "      <td>1</td>\n",
       "      <td>0.416763</td>\n",
       "    </tr>\n",
       "    <tr>\n",
       "      <th>4</th>\n",
       "      <td>On the treadmill 🏃🏻‍♀️🏃🏻‍♀️🏃🏻‍♀️, but still sa...</td>\n",
       "      <td>0</td>\n",
       "      <td>0.787505</td>\n",
       "      <td>1</td>\n",
       "      <td>0.416778</td>\n",
       "    </tr>\n",
       "    <tr>\n",
       "      <th>...</th>\n",
       "      <td>...</td>\n",
       "      <td>...</td>\n",
       "      <td>...</td>\n",
       "      <td>...</td>\n",
       "      <td>...</td>\n",
       "    </tr>\n",
       "    <tr>\n",
       "      <th>5693</th>\n",
       "      <td>Unisex Waist &amp;amp; Hip Bag with Water Bottle #...</td>\n",
       "      <td>1</td>\n",
       "      <td>0.678286</td>\n",
       "      <td>1</td>\n",
       "      <td>0.513712</td>\n",
       "    </tr>\n",
       "    <tr>\n",
       "      <th>5694</th>\n",
       "      <td>Unisex Waist &amp;amp; Hip Bag with Water Bottle #...</td>\n",
       "      <td>1</td>\n",
       "      <td>0.678286</td>\n",
       "      <td>1</td>\n",
       "      <td>0.513712</td>\n",
       "    </tr>\n",
       "    <tr>\n",
       "      <th>5695</th>\n",
       "      <td>Unisex Waist &amp;amp; Hip Bag with Water Bottle #...</td>\n",
       "      <td>1</td>\n",
       "      <td>0.678286</td>\n",
       "      <td>1</td>\n",
       "      <td>0.513712</td>\n",
       "    </tr>\n",
       "    <tr>\n",
       "      <th>5696</th>\n",
       "      <td>Unisex Waist &amp;amp; Hip Bag with Water Bottle #...</td>\n",
       "      <td>1</td>\n",
       "      <td>0.678286</td>\n",
       "      <td>1</td>\n",
       "      <td>0.513712</td>\n",
       "    </tr>\n",
       "    <tr>\n",
       "      <th>5697</th>\n",
       "      <td>Unisex Waist &amp;amp; Hip Bag with Water Bottle #...</td>\n",
       "      <td>1</td>\n",
       "      <td>0.678286</td>\n",
       "      <td>1</td>\n",
       "      <td>0.513712</td>\n",
       "    </tr>\n",
       "  </tbody>\n",
       "</table>\n",
       "<p>5698 rows × 5 columns</p>\n",
       "</div>"
      ],
      "text/plain": [
       "                                                  Tweet  Category_x  \\\n",
       "0     On the treadmill 🏃🏻‍♀️🏃🏻‍♀️🏃🏻‍♀️, but still sa...           0   \n",
       "1     On the treadmill 🏃🏻‍♀️🏃🏻‍♀️🏃🏻‍♀️, but still sa...           0   \n",
       "2     On the treadmill 🏃🏻‍♀️🏃🏻‍♀️🏃🏻‍♀️, but still sa...           0   \n",
       "3     On the treadmill 🏃🏻‍♀️🏃🏻‍♀️🏃🏻‍♀️, but still sa...           0   \n",
       "4     On the treadmill 🏃🏻‍♀️🏃🏻‍♀️🏃🏻‍♀️, but still sa...           0   \n",
       "...                                                 ...         ...   \n",
       "5693  Unisex Waist &amp; Hip Bag with Water Bottle #...           1   \n",
       "5694  Unisex Waist &amp; Hip Bag with Water Bottle #...           1   \n",
       "5695  Unisex Waist &amp; Hip Bag with Water Bottle #...           1   \n",
       "5696  Unisex Waist &amp; Hip Bag with Water Bottle #...           1   \n",
       "5697  Unisex Waist &amp; Hip Bag with Water Bottle #...           1   \n",
       "\n",
       "      Probability_x  Category_y  Probability_y  \n",
       "0          0.787505           1       0.416757  \n",
       "1          0.787505           1       0.416748  \n",
       "2          0.787505           1       0.416759  \n",
       "3          0.787505           1       0.416763  \n",
       "4          0.787505           1       0.416778  \n",
       "...             ...         ...            ...  \n",
       "5693       0.678286           1       0.513712  \n",
       "5694       0.678286           1       0.513712  \n",
       "5695       0.678286           1       0.513712  \n",
       "5696       0.678286           1       0.513712  \n",
       "5697       0.678286           1       0.513712  \n",
       "\n",
       "[5698 rows x 5 columns]"
      ]
     },
     "execution_count": 41,
     "metadata": {},
     "output_type": "execute_result"
    }
   ],
   "source": [
    "newdf_env_final"
   ]
  },
  {
   "cell_type": "code",
   "execution_count": 40,
   "id": "cb7b7257",
   "metadata": {},
   "outputs": [
    {
     "name": "stderr",
     "output_type": "stream",
     "text": [
      "/opt/anaconda3/lib/python3.8/site-packages/ipykernel/ipkernel.py:287: DeprecationWarning: `should_run_async` will not call `transform_cell` automatically in the future. Please pass the result to `transformed_cell` argument and any exception that happen during thetransform in `preprocessing_exc_tuple` in IPython 7.17 and above.\n",
      "  and should_run_async(code)\n"
     ]
    },
    {
     "ename": "KeyError",
     "evalue": "'Category'",
     "output_type": "error",
     "traceback": [
      "\u001b[0;31m---------------------------------------------------------------------------\u001b[0m",
      "\u001b[0;31mKeyError\u001b[0m                                  Traceback (most recent call last)",
      "\u001b[0;32m<ipython-input-40-546e71a47991>\u001b[0m in \u001b[0;36m<module>\u001b[0;34m\u001b[0m\n\u001b[0;32m----> 1\u001b[0;31m \u001b[0mnewdf_envfinal_cats\u001b[0m \u001b[0;34m=\u001b[0m \u001b[0mnewdf_env_final\u001b[0m\u001b[0;34m.\u001b[0m\u001b[0mgroupby\u001b[0m\u001b[0;34m(\u001b[0m\u001b[0;34m'Category'\u001b[0m\u001b[0;34m)\u001b[0m\u001b[0;34m\u001b[0m\u001b[0;34m\u001b[0m\u001b[0m\n\u001b[0m",
      "\u001b[0;32m/opt/anaconda3/lib/python3.8/site-packages/pandas/core/frame.py\u001b[0m in \u001b[0;36mgroupby\u001b[0;34m(self, by, axis, level, as_index, sort, group_keys, squeeze, observed, dropna)\u001b[0m\n\u001b[1;32m   6715\u001b[0m         \u001b[0maxis\u001b[0m \u001b[0;34m=\u001b[0m \u001b[0mself\u001b[0m\u001b[0;34m.\u001b[0m\u001b[0m_get_axis_number\u001b[0m\u001b[0;34m(\u001b[0m\u001b[0maxis\u001b[0m\u001b[0;34m)\u001b[0m\u001b[0;34m\u001b[0m\u001b[0;34m\u001b[0m\u001b[0m\n\u001b[1;32m   6716\u001b[0m \u001b[0;34m\u001b[0m\u001b[0m\n\u001b[0;32m-> 6717\u001b[0;31m         return DataFrameGroupBy(\n\u001b[0m\u001b[1;32m   6718\u001b[0m             \u001b[0mobj\u001b[0m\u001b[0;34m=\u001b[0m\u001b[0mself\u001b[0m\u001b[0;34m,\u001b[0m\u001b[0;34m\u001b[0m\u001b[0;34m\u001b[0m\u001b[0m\n\u001b[1;32m   6719\u001b[0m             \u001b[0mkeys\u001b[0m\u001b[0;34m=\u001b[0m\u001b[0mby\u001b[0m\u001b[0;34m,\u001b[0m\u001b[0;34m\u001b[0m\u001b[0;34m\u001b[0m\u001b[0m\n",
      "\u001b[0;32m/opt/anaconda3/lib/python3.8/site-packages/pandas/core/groupby/groupby.py\u001b[0m in \u001b[0;36m__init__\u001b[0;34m(self, obj, keys, axis, level, grouper, exclusions, selection, as_index, sort, group_keys, squeeze, observed, mutated, dropna)\u001b[0m\n\u001b[1;32m    558\u001b[0m             \u001b[0;32mfrom\u001b[0m \u001b[0mpandas\u001b[0m\u001b[0;34m.\u001b[0m\u001b[0mcore\u001b[0m\u001b[0;34m.\u001b[0m\u001b[0mgroupby\u001b[0m\u001b[0;34m.\u001b[0m\u001b[0mgrouper\u001b[0m \u001b[0;32mimport\u001b[0m \u001b[0mget_grouper\u001b[0m\u001b[0;34m\u001b[0m\u001b[0;34m\u001b[0m\u001b[0m\n\u001b[1;32m    559\u001b[0m \u001b[0;34m\u001b[0m\u001b[0m\n\u001b[0;32m--> 560\u001b[0;31m             grouper, exclusions, obj = get_grouper(\n\u001b[0m\u001b[1;32m    561\u001b[0m                 \u001b[0mobj\u001b[0m\u001b[0;34m,\u001b[0m\u001b[0;34m\u001b[0m\u001b[0;34m\u001b[0m\u001b[0m\n\u001b[1;32m    562\u001b[0m                 \u001b[0mkeys\u001b[0m\u001b[0;34m,\u001b[0m\u001b[0;34m\u001b[0m\u001b[0;34m\u001b[0m\u001b[0m\n",
      "\u001b[0;32m/opt/anaconda3/lib/python3.8/site-packages/pandas/core/groupby/grouper.py\u001b[0m in \u001b[0;36mget_grouper\u001b[0;34m(obj, key, axis, level, sort, observed, mutated, validate, dropna)\u001b[0m\n\u001b[1;32m    809\u001b[0m                 \u001b[0min_axis\u001b[0m\u001b[0;34m,\u001b[0m \u001b[0mname\u001b[0m\u001b[0;34m,\u001b[0m \u001b[0mlevel\u001b[0m\u001b[0;34m,\u001b[0m \u001b[0mgpr\u001b[0m \u001b[0;34m=\u001b[0m \u001b[0;32mFalse\u001b[0m\u001b[0;34m,\u001b[0m \u001b[0;32mNone\u001b[0m\u001b[0;34m,\u001b[0m \u001b[0mgpr\u001b[0m\u001b[0;34m,\u001b[0m \u001b[0;32mNone\u001b[0m\u001b[0;34m\u001b[0m\u001b[0;34m\u001b[0m\u001b[0m\n\u001b[1;32m    810\u001b[0m             \u001b[0;32melse\u001b[0m\u001b[0;34m:\u001b[0m\u001b[0;34m\u001b[0m\u001b[0;34m\u001b[0m\u001b[0m\n\u001b[0;32m--> 811\u001b[0;31m                 \u001b[0;32mraise\u001b[0m \u001b[0mKeyError\u001b[0m\u001b[0;34m(\u001b[0m\u001b[0mgpr\u001b[0m\u001b[0;34m)\u001b[0m\u001b[0;34m\u001b[0m\u001b[0;34m\u001b[0m\u001b[0m\n\u001b[0m\u001b[1;32m    812\u001b[0m         \u001b[0;32melif\u001b[0m \u001b[0misinstance\u001b[0m\u001b[0;34m(\u001b[0m\u001b[0mgpr\u001b[0m\u001b[0;34m,\u001b[0m \u001b[0mGrouper\u001b[0m\u001b[0;34m)\u001b[0m \u001b[0;32mand\u001b[0m \u001b[0mgpr\u001b[0m\u001b[0;34m.\u001b[0m\u001b[0mkey\u001b[0m \u001b[0;32mis\u001b[0m \u001b[0;32mnot\u001b[0m \u001b[0;32mNone\u001b[0m\u001b[0;34m:\u001b[0m\u001b[0;34m\u001b[0m\u001b[0;34m\u001b[0m\u001b[0m\n\u001b[1;32m    813\u001b[0m             \u001b[0;31m# Add key to exclusions\u001b[0m\u001b[0;34m\u001b[0m\u001b[0;34m\u001b[0m\u001b[0;34m\u001b[0m\u001b[0m\n",
      "\u001b[0;31mKeyError\u001b[0m: 'Category'"
     ]
    }
   ],
   "source": [
    "newdf_envfinal_cats = newdf_env_final.groupby('Category')"
   ]
  },
  {
   "cell_type": "code",
   "execution_count": 33,
   "id": "4f6f22b5",
   "metadata": {},
   "outputs": [
    {
     "name": "stdout",
     "output_type": "stream",
     "text": [
      "Number of tweets per category\n",
      "Category\n",
      "1    447\n",
      "dtype: int64\n"
     ]
    },
    {
     "name": "stderr",
     "output_type": "stream",
     "text": [
      "/opt/anaconda3/lib/python3.8/site-packages/ipykernel/ipkernel.py:287: DeprecationWarning: `should_run_async` will not call `transform_cell` automatically in the future. Please pass the result to `transformed_cell` argument and any exception that happen during thetransform in `preprocessing_exc_tuple` in IPython 7.17 and above.\n",
      "  and should_run_async(code)\n"
     ]
    }
   ],
   "source": [
    "print(f\"Number of tweets per category\")\n",
    "print(newdf_envfinal_cats.size())"
   ]
  },
  {
   "cell_type": "code",
   "execution_count": null,
   "id": "93e1a373",
   "metadata": {},
   "outputs": [],
   "source": [
    "newdf_final = newdf_env_unique[newdf_env_unique['Category']==1]"
   ]
  },
  {
   "cell_type": "code",
   "execution_count": null,
   "id": "76963d29",
   "metadata": {},
   "outputs": [],
   "source": []
  },
  {
   "cell_type": "code",
   "execution_count": null,
   "id": "a4e61991",
   "metadata": {},
   "outputs": [],
   "source": []
  },
  {
   "cell_type": "code",
   "execution_count": 30,
   "id": "60ac6fd6",
   "metadata": {},
   "outputs": [
    {
     "name": "stderr",
     "output_type": "stream",
     "text": [
      "/opt/anaconda3/lib/python3.8/site-packages/ipykernel/ipkernel.py:287: DeprecationWarning: `should_run_async` will not call `transform_cell` automatically in the future. Please pass the result to `transformed_cell` argument and any exception that happen during thetransform in `preprocessing_exc_tuple` in IPython 7.17 and above.\n",
      "  and should_run_async(code)\n"
     ]
    }
   ],
   "source": [
    "pyLDAvis.enable_notebook()\n",
    "# pyLDAvis.gensim.prepare(lda_model, corpus, words)"
   ]
  },
  {
   "cell_type": "code",
   "execution_count": null,
   "id": "1491e2a1",
   "metadata": {},
   "outputs": [],
   "source": []
  }
 ],
 "metadata": {
  "celltoolbar": "Slideshow",
  "kernelspec": {
   "display_name": "Python 3",
   "language": "python",
   "name": "python3"
  },
  "language_info": {
   "codemirror_mode": {
    "name": "ipython",
    "version": 3
   },
   "file_extension": ".py",
   "mimetype": "text/x-python",
   "name": "python",
   "nbconvert_exporter": "python",
   "pygments_lexer": "ipython3",
   "version": "3.8.8"
  }
 },
 "nbformat": 4,
 "nbformat_minor": 5
}
