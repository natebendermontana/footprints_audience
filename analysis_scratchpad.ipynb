{
 "cells": [
  {
   "cell_type": "code",
   "execution_count": 25,
   "id": "d0cd12b5",
   "metadata": {},
   "outputs": [],
   "source": [
    "import nltk\n",
    "import pandas as pd\n",
    "# Do our imports for the code\n",
    "from google.cloud import bigquery\n",
    "from google.oauth2 import service_account\n",
    "from collections import Counter\n",
    "from nltk.corpus import stopwords\n",
    "words = set(nltk.corpus.words.words())\n",
    "sw2=set(stopwords.words('english'))\n",
    "from nltk import word_tokenize, sent_tokenize, FreqDist\n",
    "from nltk.stem import LancasterStemmer, WordNetLemmatizer\n",
    "from nltk.tokenize import TweetTokenizer\n",
    "import numpy as np\n",
    "from google.cloud import bigquery\n",
    "import matplotlib.pyplot as plt"
   ]
  },
  {
   "cell_type": "code",
   "execution_count": 2,
   "id": "4cae8713",
   "metadata": {},
   "outputs": [],
   "source": [
    "# Set authentication info\n",
    "service_path = \"/Users/natebender/Desktop/repo/footprints/footprints_audience/\"\n",
    "service_file = 'footprintsrunning-d15e651db9a6.json' # change this to your authentication information  \n",
    "gbq_proj_id = 'footprintsrunning' # change this to your poroject. \n",
    "\n",
    "# And this should stay the same. \n",
    "private_key = service_path + service_file\n",
    "\n",
    "# Now we pass in our credentials so that Python has permission to access our project.\n",
    "credentials = service_account.Credentials.from_service_account_file(service_path + service_file)\n",
    "\n",
    "# And finally we establish our connection\n",
    "gbqclient = bigquery.Client(credentials = credentials, project=gbq_proj_id)"
   ]
  },
  {
   "cell_type": "code",
   "execution_count": 4,
   "id": "7791b326",
   "metadata": {},
   "outputs": [],
   "source": [
    "table_id = 'footprintsrunning.twitter_scraping.trail_running'"
   ]
  },
  {
   "cell_type": "code",
   "execution_count": 5,
   "id": "d32d01d1",
   "metadata": {},
   "outputs": [
    {
     "name": "stdout",
     "output_type": "stream",
     "text": [
      "Got table 'footprintsrunning.twitter_scraping.trail_running'.\n",
      "Table schema: [SchemaField('user_id', 'INTEGER', 'NULLABLE', None, (), None), SchemaField('screen_name', 'STRING', 'NULLABLE', None, (), None), SchemaField('location', 'STRING', 'NULLABLE', None, (), None), SchemaField('friends_count', 'INTEGER', 'NULLABLE', None, (), None), SchemaField('followers_count', 'INTEGER', 'NULLABLE', None, (), None), SchemaField('totaltweets', 'INTEGER', 'NULLABLE', None, (), None), SchemaField('date_created', 'STRING', 'NULLABLE', None, (), None), SchemaField('tweet_id', 'INTEGER', 'NULLABLE', None, (), None), SchemaField('retweetcount', 'INTEGER', 'NULLABLE', None, (), None), SchemaField('full_text', 'STRING', 'NULLABLE', None, (), None), SchemaField('fulltext_clean', 'STRING', 'NULLABLE', None, (), None), SchemaField('desc_clean', 'STRING', 'NULLABLE', None, (), None)]\n",
      "Table description: None\n",
      "Table has 89354 rows\n"
     ]
    }
   ],
   "source": [
    "table = gbqclient.get_table(table_id)  # Make an API request.\n",
    "\n",
    "# View table properties\n",
    "print(\n",
    "    \"Got table '{}.{}.{}'.\".format(table.project, table.dataset_id, table.table_id)\n",
    ")\n",
    "print(\"Table schema: {}\".format(table.schema))\n",
    "print(\"Table description: {}\".format(table.description))\n",
    "print(\"Table has {} rows\".format(table.num_rows))"
   ]
  },
  {
   "cell_type": "markdown",
   "id": "e025e8bb",
   "metadata": {},
   "source": [
    "### Analysis playing around"
   ]
  },
  {
   "cell_type": "code",
   "execution_count": 6,
   "id": "7fe7f9bb",
   "metadata": {},
   "outputs": [],
   "source": [
    "# code I don't fully understand for setting up GBQ querying\n",
    "\n",
    "import pydata_google_auth\n",
    "SCOPES = [\n",
    "    'https://www.googleapis.com/auth/cloud-platform',\n",
    "    'https://www.googleapis.com/auth/drive',\n",
    "]\n",
    "\n",
    "credentials = pydata_google_auth.get_user_credentials(\n",
    "    SCOPES,\n",
    "    # Set auth_local_webserver to True to have a slightly more convienient\n",
    "    # authorization flow. Note, this doesn't work if you're running from a\n",
    "    # notebook on a remote sever, such as over SSH or with Google Colab.\n",
    "    auth_local_webserver=True,\n",
    ")"
   ]
  },
  {
   "cell_type": "code",
   "execution_count": 8,
   "id": "58350281",
   "metadata": {},
   "outputs": [],
   "source": [
    "# query GBQ table and place data into pandas df\n",
    "\n",
    "query = \"\"\"\n",
    "    SELECT \n",
    "    screen_name,\n",
    "    desc_clean,\n",
    "    fulltext_clean\n",
    "    FROM\n",
    "    `footprintsrunning.twitter_scraping.trail_running`\n",
    "\"\"\"\n",
    "\n",
    "data = pd.read_gbq(query, project_id = gbq_proj_id, credentials=credentials, dialect = 'standard')\n"
   ]
  },
  {
   "cell_type": "code",
   "execution_count": 9,
   "id": "2255544c",
   "metadata": {},
   "outputs": [
    {
     "data": {
      "text/plain": [
       "89354"
      ]
     },
     "execution_count": 9,
     "metadata": {},
     "output_type": "execute_result"
    }
   ],
   "source": [
    "len(data)"
   ]
  },
  {
   "cell_type": "code",
   "execution_count": 17,
   "id": "381d06c4",
   "metadata": {},
   "outputs": [],
   "source": [
    "# experiment on smaller sample for starters\n",
    "\n",
    "df_sample = data.sample(n=2000)"
   ]
  },
  {
   "cell_type": "code",
   "execution_count": 11,
   "id": "bbe1fb97",
   "metadata": {},
   "outputs": [
    {
     "data": {
      "text/html": [
       "<div>\n",
       "<style scoped>\n",
       "    .dataframe tbody tr th:only-of-type {\n",
       "        vertical-align: middle;\n",
       "    }\n",
       "\n",
       "    .dataframe tbody tr th {\n",
       "        vertical-align: top;\n",
       "    }\n",
       "\n",
       "    .dataframe thead th {\n",
       "        text-align: right;\n",
       "    }\n",
       "</style>\n",
       "<table border=\"1\" class=\"dataframe\">\n",
       "  <thead>\n",
       "    <tr style=\"text-align: right;\">\n",
       "      <th></th>\n",
       "      <th>screen_name</th>\n",
       "      <th>desc_clean</th>\n",
       "      <th>fulltext_clean</th>\n",
       "    </tr>\n",
       "  </thead>\n",
       "  <tbody>\n",
       "    <tr>\n",
       "      <th>33021</th>\n",
       "      <td>adoublegym</td>\n",
       "      <td>trust process</td>\n",
       "      <td>day 2 365 amazing cause</td>\n",
       "    </tr>\n",
       "    <tr>\n",
       "      <th>88568</th>\n",
       "      <td>nirm</td>\n",
       "      <td>visual design digital user experience interfac...</td>\n",
       "      <td>list</td>\n",
       "    </tr>\n",
       "    <tr>\n",
       "      <th>22949</th>\n",
       "      <td>LunpiStore</td>\n",
       "      <td>shop new trends styles womens clother mens clo...</td>\n",
       "      <td>best quality best prices</td>\n",
       "    </tr>\n",
       "    <tr>\n",
       "      <th>81322</th>\n",
       "      <td>brandbazzar</td>\n",
       "      <td>sell ebay</td>\n",
       "      <td>asics men size fleece long sleeve black</td>\n",
       "    </tr>\n",
       "    <tr>\n",
       "      <th>80568</th>\n",
       "      <td>DRHM_Chennai</td>\n",
       "      <td>welcome official twitter handle drhm inspiring...</td>\n",
       "      <td>great way start year 2022 group run</td>\n",
       "    </tr>\n",
       "    <tr>\n",
       "      <th>34142</th>\n",
       "      <td>Miles_Mountains</td>\n",
       "      <td>full time run coach adventurer click info coac...</td>\n",
       "      <td>eric h amazing race green river marathon despi...</td>\n",
       "    </tr>\n",
       "    <tr>\n",
       "      <th>43562</th>\n",
       "      <td>TipTopShoes</td>\n",
       "      <td>est 1940 nycs tiptop shoes led danny wasserman...</td>\n",
       "      <td>always comfy super stylish bondi 7 back time a...</td>\n",
       "    </tr>\n",
       "    <tr>\n",
       "      <th>70982</th>\n",
       "      <td>uniquesportshop</td>\n",
       "      <td>100 authentic vintage retro sneakers sportswea...</td>\n",
       "      <td>nike elite pro running speedsuit men sizes ava...</td>\n",
       "    </tr>\n",
       "    <tr>\n",
       "      <th>8749</th>\n",
       "      <td>GossEmpire</td>\n",
       "      <td>provide inspiration motivation information tod...</td>\n",
       "      <td>badminton set plenty outdoor fun shop</td>\n",
       "    </tr>\n",
       "    <tr>\n",
       "      <th>21274</th>\n",
       "      <td>msgettinfitt</td>\n",
       "      <td></td>\n",
       "      <td>client cam l results</td>\n",
       "    </tr>\n",
       "  </tbody>\n",
       "</table>\n",
       "</div>"
      ],
      "text/plain": [
       "           screen_name                                         desc_clean  \\\n",
       "33021       adoublegym                                      trust process   \n",
       "88568             nirm  visual design digital user experience interfac...   \n",
       "22949       LunpiStore  shop new trends styles womens clother mens clo...   \n",
       "81322      brandbazzar                                          sell ebay   \n",
       "80568     DRHM_Chennai  welcome official twitter handle drhm inspiring...   \n",
       "34142  Miles_Mountains  full time run coach adventurer click info coac...   \n",
       "43562      TipTopShoes  est 1940 nycs tiptop shoes led danny wasserman...   \n",
       "70982  uniquesportshop  100 authentic vintage retro sneakers sportswea...   \n",
       "8749        GossEmpire  provide inspiration motivation information tod...   \n",
       "21274     msgettinfitt                                                      \n",
       "\n",
       "                                          fulltext_clean  \n",
       "33021                            day 2 365 amazing cause  \n",
       "88568                                               list  \n",
       "22949                           best quality best prices  \n",
       "81322            asics men size fleece long sleeve black  \n",
       "80568                great way start year 2022 group run  \n",
       "34142  eric h amazing race green river marathon despi...  \n",
       "43562  always comfy super stylish bondi 7 back time a...  \n",
       "70982  nike elite pro running speedsuit men sizes ava...  \n",
       "8749               badminton set plenty outdoor fun shop  \n",
       "21274                               client cam l results  "
      ]
     },
     "execution_count": 11,
     "metadata": {},
     "output_type": "execute_result"
    }
   ],
   "source": [
    "df_sample.head(10)"
   ]
  },
  {
   "cell_type": "code",
   "execution_count": 18,
   "id": "3d82761f",
   "metadata": {},
   "outputs": [],
   "source": [
    "# extract tweets into dedicated variable\n",
    "tweets = [df_sample['fulltext_clean'] \n",
    "                 for i in df_sample ]"
   ]
  },
  {
   "cell_type": "code",
   "execution_count": 13,
   "id": "0ad81826",
   "metadata": {},
   "outputs": [],
   "source": [
    "# Check desc stats on overall descriptions before splitting into groups\n",
    "def get_patterns(text) :\n",
    "\n",
    "    all_desc = text\n",
    "    all_str = \" \".join(all_desc[0])    \n",
    "    clean = [w for w in all_str.split()]\n",
    "    \n",
    "    # Calculate your statistics here\n",
    "    total_tokens = len(clean)\n",
    "    unique_tokens = len(set(clean))\n",
    "    clean_tok_len = [len(w) for w in clean]\n",
    "    avg_token_len = np.mean(clean_tok_len)\n",
    "    lex_diversity = len(set(clean))/len(clean)\n",
    "    top_n = Counter(clean).most_common(20)\n",
    "    \n",
    "    \n",
    "    # Now we'll fill out the dictionary. \n",
    "    results = {'tokens':total_tokens,\n",
    "               'unique_tokens':unique_tokens,\n",
    "               'avg_token_length':round(avg_token_len,2),\n",
    "               'lexical_diversity':round(lex_diversity,2),\n",
    "               'Top_n':top_n}\n",
    "\n",
    "    return(results)"
   ]
  },
  {
   "cell_type": "code",
   "execution_count": 19,
   "id": "9fb6ee2f",
   "metadata": {},
   "outputs": [
    {
     "data": {
      "text/plain": [
       "{'tokens': 20778,\n",
       " 'unique_tokens': 5344,\n",
       " 'avg_token_length': 5.15,\n",
       " 'lexical_diversity': 0.26,\n",
       " 'Top_n': [('run', 508),\n",
       "  ('running', 263),\n",
       "  ('day', 205),\n",
       "  ('amp', 176),\n",
       "  ('today', 168),\n",
       "  ('get', 157),\n",
       "  ('miles', 146),\n",
       "  ('year', 145),\n",
       "  ('morning', 134),\n",
       "  ('2022', 133),\n",
       "  ('new', 127),\n",
       "  ('good', 110),\n",
       "  ('first', 109),\n",
       "  ('time', 101),\n",
       "  ('2', 96),\n",
       "  ('great', 92),\n",
       "  ('1', 89),\n",
       "  ('like', 85),\n",
       "  ('one', 85),\n",
       "  ('back', 85)]}"
      ]
     },
     "execution_count": 19,
     "metadata": {},
     "output_type": "execute_result"
    }
   ],
   "source": [
    "get_patterns(tweets)"
   ]
  },
  {
   "cell_type": "code",
   "execution_count": 20,
   "id": "d3074634",
   "metadata": {},
   "outputs": [],
   "source": [
    "# extract desc into dedicated variable\n",
    "desc = [df_sample['desc_clean'] \n",
    "                 for i in df_sample ]"
   ]
  },
  {
   "cell_type": "code",
   "execution_count": 65,
   "id": "13c29d1d",
   "metadata": {},
   "outputs": [],
   "source": [
    "descdict = get_patterns(desc)"
   ]
  },
  {
   "cell_type": "markdown",
   "id": "ee519273",
   "metadata": {},
   "source": [
    "### Viz exploration"
   ]
  },
  {
   "cell_type": "code",
   "execution_count": 66,
   "id": "5f93b180",
   "metadata": {},
   "outputs": [],
   "source": [
    "keys = descdict.keys()\n",
    "values = list(descdict.values())\n",
    "topn = values[4]"
   ]
  },
  {
   "cell_type": "code",
   "execution_count": 74,
   "id": "330e9edb",
   "metadata": {},
   "outputs": [
    {
     "data": {
      "image/png": "[encoded data removed]",
      "text/plain": [
       "<Figure size 1440x720 with 1 Axes>"
      ]
     },
     "metadata": {
      "needs_background": "light"
     },
     "output_type": "display_data"
    }
   ],
   "source": [
    "xs = [x for x, y in topn]\n",
    "ys = [y for x, y in topn]\n",
    "\n",
    "fig, ax = plt.subplots(figsize=(20, 10))\n",
    "\n",
    "plt.plot(xs, ys)\n",
    "plt.setp(ax.get_xticklabels(), rotation = 45)\n",
    "\n",
    "ax.set(title = \"Descriptions - most common words\",\n",
    "       xlabel = \"Words\",\n",
    "       ylabel = \"Count\")\n",
    "\n",
    "plt.show()"
   ]
  },
  {
   "cell_type": "code",
   "execution_count": 69,
   "id": "ba0bc869",
   "metadata": {},
   "outputs": [],
   "source": [
    "tweetdict = get_patterns(tweets)"
   ]
  },
  {
   "cell_type": "code",
   "execution_count": 70,
   "id": "41deb996",
   "metadata": {},
   "outputs": [],
   "source": [
    "keys = tweetdict.keys()\n",
    "values = list(tweetdict.values())\n",
    "topn = values[4]"
   ]
  },
  {
   "cell_type": "code",
   "execution_count": 73,
   "id": "aa6c342e",
   "metadata": {},
   "outputs": [
    {
     "data": {
      "image/png": "[encoded data removed]",
      "text/plain": [
       "<Figure size 1440x720 with 1 Axes>"
      ]
     },
     "metadata": {
      "needs_background": "light"
     },
     "output_type": "display_data"
    }
   ],
   "source": [
    "xs = [x for x, y in topn]\n",
    "ys = [y for x, y in topn]\n",
    "\n",
    "fig, ax = plt.subplots(figsize=(20, 10))\n",
    "\n",
    "plt.plot(xs, ys)\n",
    "plt.setp(ax.get_xticklabels(), rotation = 45)\n",
    "\n",
    "ax.set(title = \"Tweets - most common words\",\n",
    "       xlabel = \"Words\",\n",
    "       ylabel = \"Count\")\n",
    "\n",
    "plt.show()"
   ]
  },
  {
   "cell_type": "code",
   "execution_count": null,
   "id": "9a8579c4",
   "metadata": {},
   "outputs": [],
   "source": []
  }
 ],
 "metadata": {
  "kernelspec": {
   "display_name": "Python 3 (ipykernel)",
   "language": "python",
   "name": "python3"
  },
  "language_info": {
   "codemirror_mode": {
    "name": "ipython",
    "version": 3
   },
   "file_extension": ".py",
   "mimetype": "text/x-python",
   "name": "python",
   "nbconvert_exporter": "python",
   "pygments_lexer": "ipython3",
   "version": "3.9.7"
  }
 },
 "nbformat": 4,
 "nbformat_minor": 5
}
