{
 "cells": [
  {
   "cell_type": "code",
   "execution_count": 20,
   "id": "d0cd12b5",
   "metadata": {},
   "outputs": [],
   "source": [
    "import nltk\n",
    "import pandas as pd\n",
    "# Do our imports for the code\n",
    "from google.cloud import bigquery\n",
    "from google.oauth2 import service_account\n",
    "from collections import Counter\n",
    "from nltk.corpus import stopwords\n",
    "words = set(nltk.corpus.words.words())\n",
    "sw2=set(stopwords.words('english'))\n",
    "from nltk import word_tokenize, sent_tokenize, FreqDist\n",
    "from nltk.stem import LancasterStemmer, WordNetLemmatizer\n",
    "from nltk.tokenize import TweetTokenizer\n",
    "import numpy as np\n",
    "from google.cloud import bigquery\n",
    "import matplotlib.pyplot as plt"
   ]
  },
  {
   "cell_type": "code",
   "execution_count": 2,
   "id": "4cae8713",
   "metadata": {},
   "outputs": [],
   "source": [
    "# Set authentication info\n",
    "service_path = \"/Users/natebender/Desktop/repo/footprints/footprints_audience/\"\n",
    "service_file = 'footprintsrunning-d15e651db9a6.json' # change this to your authentication information  \n",
    "gbq_proj_id = 'footprintsrunning' # change this to your poroject. \n",
    "\n",
    "# And this should stay the same. \n",
    "private_key = service_path + service_file\n",
    "\n",
    "# Now we pass in our credentials so that Python has permission to access our project.\n",
    "credentials = service_account.Credentials.from_service_account_file(service_path + service_file)\n",
    "\n",
    "# And finally we establish our connection\n",
    "gbqclient = bigquery.Client(credentials = credentials, project=gbq_proj_id)"
   ]
  },
  {
   "cell_type": "code",
   "execution_count": 3,
   "id": "7791b326",
   "metadata": {},
   "outputs": [],
   "source": [
    "table_id = 'footprintsrunning.twitter_scraping.trail_running'"
   ]
  },
  {
   "cell_type": "code",
   "execution_count": 4,
   "id": "d32d01d1",
   "metadata": {},
   "outputs": [
    {
     "name": "stdout",
     "output_type": "stream",
     "text": [
      "Got table 'footprintsrunning.twitter_scraping.trail_running'.\n",
      "Table schema: [SchemaField('user_id', 'INTEGER', 'NULLABLE', None, (), None), SchemaField('screen_name', 'STRING', 'NULLABLE', None, (), None), SchemaField('location', 'STRING', 'NULLABLE', None, (), None), SchemaField('friends_count', 'INTEGER', 'NULLABLE', None, (), None), SchemaField('followers_count', 'INTEGER', 'NULLABLE', None, (), None), SchemaField('totaltweets', 'INTEGER', 'NULLABLE', None, (), None), SchemaField('date_created', 'STRING', 'NULLABLE', None, (), None), SchemaField('tweet_id', 'INTEGER', 'NULLABLE', None, (), None), SchemaField('retweetcount', 'INTEGER', 'NULLABLE', None, (), None), SchemaField('full_text', 'STRING', 'NULLABLE', None, (), None), SchemaField('fulltext_clean', 'STRING', 'NULLABLE', None, (), None), SchemaField('desc_clean', 'STRING', 'NULLABLE', None, (), None)]\n",
      "Table description: None\n",
      "Table has 89354 rows\n"
     ]
    }
   ],
   "source": [
    "table = gbqclient.get_table(table_id)  # Make an API request.\n",
    "\n",
    "# View table properties\n",
    "print(\n",
    "    \"Got table '{}.{}.{}'.\".format(table.project, table.dataset_id, table.table_id)\n",
    ")\n",
    "print(\"Table schema: {}\".format(table.schema))\n",
    "print(\"Table description: {}\".format(table.description))\n",
    "print(\"Table has {} rows\".format(table.num_rows))"
   ]
  },
  {
   "cell_type": "markdown",
   "id": "e025e8bb",
   "metadata": {},
   "source": [
    "### Analysis playing around"
   ]
  },
  {
   "cell_type": "code",
   "execution_count": 5,
   "id": "7fe7f9bb",
   "metadata": {},
   "outputs": [],
   "source": [
    "# code I don't fully understand for setting up GBQ querying\n",
    "\n",
    "import pydata_google_auth\n",
    "SCOPES = [\n",
    "    'https://www.googleapis.com/auth/cloud-platform',\n",
    "    'https://www.googleapis.com/auth/drive',\n",
    "]\n",
    "\n",
    "credentials = pydata_google_auth.get_user_credentials(\n",
    "    SCOPES,\n",
    "    # Set auth_local_webserver to True to have a slightly more convienient\n",
    "    # authorization flow. Note, this doesn't work if you're running from a\n",
    "    # notebook on a remote sever, such as over SSH or with Google Colab.\n",
    "    auth_local_webserver=True,\n",
    ")"
   ]
  },
  {
   "cell_type": "code",
   "execution_count": 6,
   "id": "58350281",
   "metadata": {},
   "outputs": [],
   "source": [
    "# query GBQ table and place data into pandas df\n",
    "\n",
    "query = \"\"\"\n",
    "    SELECT \n",
    "    screen_name,\n",
    "    desc_clean,\n",
    "    fulltext_clean\n",
    "    FROM\n",
    "    `footprintsrunning.twitter_scraping.trail_running`\n",
    "\"\"\"\n",
    "\n",
    "data = pd.read_gbq(query, project_id = gbq_proj_id, credentials=credentials, dialect = 'standard')\n"
   ]
  },
  {
   "cell_type": "code",
   "execution_count": 7,
   "id": "2255544c",
   "metadata": {},
   "outputs": [
    {
     "data": {
      "text/plain": [
       "89354"
      ]
     },
     "execution_count": 7,
     "metadata": {},
     "output_type": "execute_result"
    }
   ],
   "source": [
    "len(data)"
   ]
  },
  {
   "cell_type": "code",
   "execution_count": 8,
   "id": "381d06c4",
   "metadata": {},
   "outputs": [],
   "source": [
    "# experiment on smaller sample for starters\n",
    "\n",
    "df_sample = data.sample(n=2000)"
   ]
  },
  {
   "cell_type": "code",
   "execution_count": 9,
   "id": "bbe1fb97",
   "metadata": {},
   "outputs": [
    {
     "data": {
      "text/html": [
       "<div>\n",
       "<style scoped>\n",
       "    .dataframe tbody tr th:only-of-type {\n",
       "        vertical-align: middle;\n",
       "    }\n",
       "\n",
       "    .dataframe tbody tr th {\n",
       "        vertical-align: top;\n",
       "    }\n",
       "\n",
       "    .dataframe thead th {\n",
       "        text-align: right;\n",
       "    }\n",
       "</style>\n",
       "<table border=\"1\" class=\"dataframe\">\n",
       "  <thead>\n",
       "    <tr style=\"text-align: right;\">\n",
       "      <th></th>\n",
       "      <th>screen_name</th>\n",
       "      <th>desc_clean</th>\n",
       "      <th>fulltext_clean</th>\n",
       "    </tr>\n",
       "  </thead>\n",
       "  <tbody>\n",
       "    <tr>\n",
       "      <th>83990</th>\n",
       "      <td>esquireattire</td>\n",
       "      <td>fashion style accessories sunglasses shoes mod...</td>\n",
       "      <td>asics men tank athletic top size stay</td>\n",
       "    </tr>\n",
       "    <tr>\n",
       "      <th>31621</th>\n",
       "      <td>therunningmanc</td>\n",
       "      <td>danny mcr raised 5k charity 2020 21 team chall...</td>\n",
       "      <td>nutrition recommendations brands like use rout...</td>\n",
       "    </tr>\n",
       "    <tr>\n",
       "      <th>12188</th>\n",
       "      <td>kjellouise</td>\n",
       "      <td></td>\n",
       "      <td>morning runs riviera</td>\n",
       "    </tr>\n",
       "    <tr>\n",
       "      <th>56593</th>\n",
       "      <td>mk_marathon</td>\n",
       "      <td>looking forward welcoming multi award winning ...</td>\n",
       "      <td>ben norman run 10 x mk marathons amazing achie...</td>\n",
       "    </tr>\n",
       "    <tr>\n",
       "      <th>19691</th>\n",
       "      <td>CodelibApp</td>\n",
       "      <td>discover 38 000 scripts plugins code 2 unique ...</td>\n",
       "      <td>retro speed html5 game mobile version construc...</td>\n",
       "    </tr>\n",
       "    <tr>\n",
       "      <th>86560</th>\n",
       "      <td>tbwUltraPowers</td>\n",
       "      <td></td>\n",
       "      <td>5 wet five kilometres completed</td>\n",
       "    </tr>\n",
       "    <tr>\n",
       "      <th>44348</th>\n",
       "      <td>LouiseKelowna</td>\n",
       "      <td></td>\n",
       "      <td>coming monday</td>\n",
       "    </tr>\n",
       "    <tr>\n",
       "      <th>26966</th>\n",
       "      <td>BoyUnfit</td>\n",
       "      <td>upon time long ago getting old hurry stopped h...</td>\n",
       "      <td>new year approaches one moves forward eager mo...</td>\n",
       "    </tr>\n",
       "    <tr>\n",
       "      <th>43475</th>\n",
       "      <td>eddietheaker</td>\n",
       "      <td>retired fire service enjoying new lease life</td>\n",
       "      <td>gentle 10k morning weather lot better legs bit...</td>\n",
       "    </tr>\n",
       "    <tr>\n",
       "      <th>78699</th>\n",
       "      <td>ThatGuyRalphie</td>\n",
       "      <td>anybody worth time convinced</td>\n",
       "      <td>enjoying mountain trails</td>\n",
       "    </tr>\n",
       "  </tbody>\n",
       "</table>\n",
       "</div>"
      ],
      "text/plain": [
       "          screen_name                                         desc_clean  \\\n",
       "83990   esquireattire  fashion style accessories sunglasses shoes mod...   \n",
       "31621  therunningmanc  danny mcr raised 5k charity 2020 21 team chall...   \n",
       "12188      kjellouise                                                      \n",
       "56593     mk_marathon  looking forward welcoming multi award winning ...   \n",
       "19691      CodelibApp  discover 38 000 scripts plugins code 2 unique ...   \n",
       "86560  tbwUltraPowers                                                      \n",
       "44348   LouiseKelowna                                                      \n",
       "26966        BoyUnfit  upon time long ago getting old hurry stopped h...   \n",
       "43475    eddietheaker       retired fire service enjoying new lease life   \n",
       "78699  ThatGuyRalphie                       anybody worth time convinced   \n",
       "\n",
       "                                          fulltext_clean  \n",
       "83990              asics men tank athletic top size stay  \n",
       "31621  nutrition recommendations brands like use rout...  \n",
       "12188                               morning runs riviera  \n",
       "56593  ben norman run 10 x mk marathons amazing achie...  \n",
       "19691  retro speed html5 game mobile version construc...  \n",
       "86560                    5 wet five kilometres completed  \n",
       "44348                                      coming monday  \n",
       "26966  new year approaches one moves forward eager mo...  \n",
       "43475  gentle 10k morning weather lot better legs bit...  \n",
       "78699                           enjoying mountain trails  "
      ]
     },
     "execution_count": 9,
     "metadata": {},
     "output_type": "execute_result"
    }
   ],
   "source": [
    "df_sample.head(10)"
   ]
  },
  {
   "cell_type": "code",
   "execution_count": 10,
   "id": "3d82761f",
   "metadata": {},
   "outputs": [],
   "source": [
    "# extract tweets into dedicated variable\n",
    "tweets = [df_sample['fulltext_clean'] \n",
    "                 for i in df_sample ]"
   ]
  },
  {
   "cell_type": "code",
   "execution_count": 11,
   "id": "0ad81826",
   "metadata": {},
   "outputs": [],
   "source": [
    "# Check desc stats on overall descriptions before splitting into groups\n",
    "def get_patterns(text) :\n",
    "\n",
    "    all_desc = text\n",
    "    all_str = \" \".join(all_desc[0])    \n",
    "    clean = [w for w in all_str.split()]\n",
    "    \n",
    "    # Calculate your statistics here\n",
    "    total_tokens = len(clean)\n",
    "    unique_tokens = len(set(clean))\n",
    "    clean_tok_len = [len(w) for w in clean]\n",
    "    avg_token_len = np.mean(clean_tok_len)\n",
    "    lex_diversity = len(set(clean))/len(clean)\n",
    "    top_n = Counter(clean).most_common(20)\n",
    "    \n",
    "    \n",
    "    # Now we'll fill out the dictionary. \n",
    "    results = {'tokens':total_tokens,\n",
    "               'unique_tokens':unique_tokens,\n",
    "               'avg_token_length':round(avg_token_len,2),\n",
    "               'lexical_diversity':round(lex_diversity,2),\n",
    "               'Top_n':top_n}\n",
    "\n",
    "    return(results)"
   ]
  },
  {
   "cell_type": "code",
   "execution_count": 12,
   "id": "9fb6ee2f",
   "metadata": {},
   "outputs": [
    {
     "data": {
      "text/plain": [
       "{'tokens': 21375,\n",
       " 'unique_tokens': 5489,\n",
       " 'avg_token_length': 5.15,\n",
       " 'lexical_diversity': 0.26,\n",
       " 'Top_n': [('run', 478),\n",
       "  ('running', 280),\n",
       "  ('day', 203),\n",
       "  ('amp', 192),\n",
       "  ('morning', 166),\n",
       "  ('today', 154),\n",
       "  ('2022', 147),\n",
       "  ('new', 137),\n",
       "  ('miles', 136),\n",
       "  ('year', 117),\n",
       "  ('time', 112),\n",
       "  ('get', 107),\n",
       "  ('good', 106),\n",
       "  ('2', 105),\n",
       "  ('first', 98),\n",
       "  ('5', 97),\n",
       "  ('like', 88),\n",
       "  ('1', 87),\n",
       "  ('one', 82),\n",
       "  ('go', 80)]}"
      ]
     },
     "execution_count": 12,
     "metadata": {},
     "output_type": "execute_result"
    }
   ],
   "source": [
    "get_patterns(tweets)"
   ]
  },
  {
   "cell_type": "code",
   "execution_count": 13,
   "id": "d3074634",
   "metadata": {},
   "outputs": [],
   "source": [
    "# extract desc into dedicated variable\n",
    "desc = [df_sample['desc_clean'] \n",
    "                 for i in df_sample ]"
   ]
  },
  {
   "cell_type": "code",
   "execution_count": 14,
   "id": "13c29d1d",
   "metadata": {},
   "outputs": [],
   "source": [
    "descdict = get_patterns(desc)"
   ]
  },
  {
   "cell_type": "markdown",
   "id": "ee519273",
   "metadata": {},
   "source": [
    "### Viz exploration"
   ]
  },
  {
   "cell_type": "code",
   "execution_count": 15,
   "id": "5f93b180",
   "metadata": {},
   "outputs": [],
   "source": [
    "keys = descdict.keys()\n",
    "values = list(descdict.values())\n",
    "topn = values[4]"
   ]
  },
  {
   "cell_type": "code",
   "execution_count": 16,
   "id": "330e9edb",
   "metadata": {},
   "outputs": [
    {
     "data": {
      "image/png": "[encoded data removed]",
      "text/plain": [
       "<Figure size 1440x720 with 1 Axes>"
      ]
     },
     "metadata": {
      "needs_background": "light"
     },
     "output_type": "display_data"
    }
   ],
   "source": [
    "xs = [x for x, y in topn]\n",
    "ys = [y for x, y in topn]\n",
    "\n",
    "fig, ax = plt.subplots(figsize=(20, 10))\n",
    "\n",
    "plt.plot(xs, ys)\n",
    "plt.setp(ax.get_xticklabels(), rotation = 45)\n",
    "\n",
    "ax.set(title = \"Descriptions - most common words\",\n",
    "       xlabel = \"Words\",\n",
    "       ylabel = \"Count\")\n",
    "\n",
    "plt.show()"
   ]
  },
  {
   "cell_type": "code",
   "execution_count": 17,
   "id": "ba0bc869",
   "metadata": {},
   "outputs": [],
   "source": [
    "tweetdict = get_patterns(tweets)"
   ]
  },
  {
   "cell_type": "code",
   "execution_count": 18,
   "id": "41deb996",
   "metadata": {},
   "outputs": [],
   "source": [
    "keys = tweetdict.keys()\n",
    "values = list(tweetdict.values())\n",
    "topn = values[4]"
   ]
  },
  {
   "cell_type": "code",
   "execution_count": 19,
   "id": "aa6c342e",
   "metadata": {},
   "outputs": [
    {
     "data": {
      "image/png": "[encoded data removed]",
      "text/plain": [
       "<Figure size 1440x720 with 1 Axes>"
      ]
     },
     "metadata": {
      "needs_background": "light"
     },
     "output_type": "display_data"
    }
   ],
   "source": [
    "xs = [x for x, y in topn]\n",
    "ys = [y for x, y in topn]\n",
    "\n",
    "fig, ax = plt.subplots(figsize=(20, 10))\n",
    "\n",
    "plt.plot(xs, ys)\n",
    "plt.setp(ax.get_xticklabels(), rotation = 45)\n",
    "\n",
    "ax.set(title = \"Tweets - most common words\",\n",
    "       xlabel = \"Words\",\n",
    "       ylabel = \"Count\")\n",
    "\n",
    "plt.show()"
   ]
  },
  {
   "cell_type": "markdown",
   "id": "32d073d6",
   "metadata": {},
   "source": [
    "### Top 1% most-followed accounts"
   ]
  },
  {
   "cell_type": "code",
   "execution_count": 22,
   "id": "6bafbae6",
   "metadata": {},
   "outputs": [],
   "source": [
    "# query GBQ table and place data into pandas df\n",
    "\n",
    "query = \"\"\"\n",
    "    SELECT \n",
    "    screen_name,\n",
    "    followers_count,\n",
    "    retweetcount,\n",
    "    location\n",
    "    FROM\n",
    "    `footprintsrunning.twitter_scraping.trail_running`\n",
    "\"\"\"\n",
    "\n",
    "df_follow = pd.read_gbq(query, project_id = gbq_proj_id, credentials=credentials, dialect = 'standard')"
   ]
  },
  {
   "cell_type": "code",
   "execution_count": 51,
   "id": "fabb3f21",
   "metadata": {},
   "outputs": [
    {
     "data": {
      "text/html": [
       "<div>\n",
       "<style scoped>\n",
       "    .dataframe tbody tr th:only-of-type {\n",
       "        vertical-align: middle;\n",
       "    }\n",
       "\n",
       "    .dataframe tbody tr th {\n",
       "        vertical-align: top;\n",
       "    }\n",
       "\n",
       "    .dataframe thead th {\n",
       "        text-align: right;\n",
       "    }\n",
       "</style>\n",
       "<table border=\"1\" class=\"dataframe\">\n",
       "  <thead>\n",
       "    <tr style=\"text-align: right;\">\n",
       "      <th></th>\n",
       "      <th>screen_name</th>\n",
       "      <th>followers_count</th>\n",
       "    </tr>\n",
       "  </thead>\n",
       "  <tbody>\n",
       "    <tr>\n",
       "      <th>79522</th>\n",
       "      <td>AppleMusic</td>\n",
       "      <td>9978054</td>\n",
       "    </tr>\n",
       "    <tr>\n",
       "      <th>88100</th>\n",
       "      <td>USArmy</td>\n",
       "      <td>1769384</td>\n",
       "    </tr>\n",
       "    <tr>\n",
       "      <th>2679</th>\n",
       "      <td>Bybit_Official</td>\n",
       "      <td>936557</td>\n",
       "    </tr>\n",
       "    <tr>\n",
       "      <th>49916</th>\n",
       "      <td>RebeccaMinkoff</td>\n",
       "      <td>874588</td>\n",
       "    </tr>\n",
       "    <tr>\n",
       "      <th>65100</th>\n",
       "      <td>MPTourism</td>\n",
       "      <td>594131</td>\n",
       "    </tr>\n",
       "    <tr>\n",
       "      <th>...</th>\n",
       "      <td>...</td>\n",
       "      <td>...</td>\n",
       "    </tr>\n",
       "    <tr>\n",
       "      <th>80300</th>\n",
       "      <td>inov_8</td>\n",
       "      <td>32604</td>\n",
       "    </tr>\n",
       "    <tr>\n",
       "      <th>74307</th>\n",
       "      <td>pcs_union</td>\n",
       "      <td>31844</td>\n",
       "    </tr>\n",
       "    <tr>\n",
       "      <th>65770</th>\n",
       "      <td>SOLETRADER</td>\n",
       "      <td>31001</td>\n",
       "    </tr>\n",
       "    <tr>\n",
       "      <th>58750</th>\n",
       "      <td>TimIzCocky</td>\n",
       "      <td>30962</td>\n",
       "    </tr>\n",
       "    <tr>\n",
       "      <th>58328</th>\n",
       "      <td>htlifeandstyle</td>\n",
       "      <td>30646</td>\n",
       "    </tr>\n",
       "  </tbody>\n",
       "</table>\n",
       "<p>73 rows × 2 columns</p>\n",
       "</div>"
      ],
      "text/plain": [
       "          screen_name  followers_count\n",
       "79522      AppleMusic          9978054\n",
       "88100          USArmy          1769384\n",
       "2679   Bybit_Official           936557\n",
       "49916  RebeccaMinkoff           874588\n",
       "65100       MPTourism           594131\n",
       "...               ...              ...\n",
       "80300          inov_8            32604\n",
       "74307       pcs_union            31844\n",
       "65770      SOLETRADER            31001\n",
       "58750      TimIzCocky            30962\n",
       "58328  htlifeandstyle            30646\n",
       "\n",
       "[73 rows x 2 columns]"
      ]
     },
     "execution_count": 51,
     "metadata": {},
     "output_type": "execute_result"
    }
   ],
   "source": [
    "# filter to only accounts with top 1% of followers\n",
    "top = df_follow[df_follow.followers_count > np.percentile(df_follow.followers_count,99)]\n",
    "\n",
    "# remove duplicates, display in descending order by follower count\n",
    "top[['screen_name', 'followers_count']].drop_duplicates(subset=['screen_name']).sort_values(by=['followers_count'], ascending=False)\n"
   ]
  },
  {
   "cell_type": "code",
   "execution_count": null,
   "id": "7fad2fa4",
   "metadata": {},
   "outputs": [],
   "source": []
  }
 ],
 "metadata": {
  "kernelspec": {
   "display_name": "Python 3 (ipykernel)",
   "language": "python",
   "name": "python3"
  },
  "language_info": {
   "codemirror_mode": {
    "name": "ipython",
    "version": 3
   },
   "file_extension": ".py",
   "mimetype": "text/x-python",
   "name": "python",
   "nbconvert_exporter": "python",
   "pygments_lexer": "ipython3",
   "version": "3.9.7"
  }
 },
 "nbformat": 4,
 "nbformat_minor": 5
}
